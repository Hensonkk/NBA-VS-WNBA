{
 "cells": [
  {
   "cell_type": "code",
   "execution_count": 155,
   "id": "e9377771",
   "metadata": {},
   "outputs": [],
   "source": [
    "import pandas as pd\n",
    "\n",
    "# Import datasets\n",
    "nba_attendance = pd.read_csv(\"Datasets/NBA_Attendance_2019-2023.csv\")\n",
    "wnba_game_attendance = pd.read_csv(\"Datasets/WNBA Game Attendance.csv\")"
   ]
  },
  {
   "cell_type": "code",
   "execution_count": 162,
   "id": "cd31384b",
   "metadata": {},
   "outputs": [],
   "source": [
    "# Dict to hold max capacity of game venues to calculate percent (for wnba)\n",
    "venues = wnba_game_attendance[\"Location\"].unique()\n",
    "wnba_venue_capacity = {\n",
    "    \"Gateway Center Arena\": 3209,\n",
    "    \"College Park Center\": 7700,\n",
    "    \"Barclaye Center\": 17732,\n",
    "    \"Entertainment and Sports Arena\": 4200,\n",
    "    \"Wintrust Arena\": 10387,\n",
    "    \"Target Center\": 18798,\n",
    "    \"Mohegan Sun Arena\": 9323,\n",
    "    \"Michelob ULTRA Arena\": 10211,\n",
    "    \"Climate Pledge Arena\": 18100,\n",
    "    \"Gainbridge Fieldhouse\": 19000,\n",
    "    \"Crypto.com Arena\": 19079,\n",
    "    \"Barclays Center\": 17732,\n",
    "    \"Angel of the Winds Arena\": 10000,\n",
    "    \"Footprint Center\": 17071,\n",
    "    \"STAPLES Center\": 14050,\n",
    "    \"Los Angeles Convention Center\": 19050,\n",
    "    \"Phoenix Suns Arena\": 17071,\n",
    "    \"State Farm Arena\": 19050,\n",
    "    \"Talking Stick Resort Arena\": 18055,\n",
    "    \"Mandalay Bay Events Center\": 4413,\n",
    "    \"Westchester County Center\": 3579,\n",
    "    \"Thomas & Macj Center\": 18000, # misspelled :(\n",
    "    \"Bankers Life Fieldhouse\": 18165,\n",
    "    \"Walter Pyramid at Long Beach State\": 4000\n",
    "}"
   ]
  },
  {
   "cell_type": "code",
   "execution_count": 164,
   "id": "d333a509",
   "metadata": {},
   "outputs": [],
   "source": [
    "# Lists of teams we're considering\n",
    "wnba_teams = ['Atlanta Dream','Chicago Sky','Dallas Wings','Indiana Fever','Los Angeles Sparks','Phoenix Mercury','Minnesota Lynx','New York Liberty','Las Vegas Aces','Seattle Storm']\n",
    "nba_teams = ['Atlanta Hawks','Chicago Bulls','Dallas Mavericks','Indiana Pacers','Los Angeles Lakers','Phoenix Suns','Minnesota Timberwolves','New York Knicks','Golden State Warriors','Oklahoma City Thunder']"
   ]
  },
  {
   "cell_type": "code",
   "execution_count": 196,
   "id": "61eb8275",
   "metadata": {},
   "outputs": [
    {
     "data": {
      "text/plain": [
       "1778"
      ]
     },
     "execution_count": 196,
     "metadata": {},
     "output_type": "execute_result"
    }
   ],
   "source": [
    "wnba_game_attendance.size"
   ]
  },
  {
   "cell_type": "code",
   "execution_count": 204,
   "id": "f2c1afd4",
   "metadata": {},
   "outputs": [
    {
     "ename": "KeyError",
     "evalue": "3209",
     "output_type": "error",
     "traceback": [
      "\u001b[1;31m---------------------------------------------------------------------------\u001b[0m",
      "\u001b[1;31mKeyError\u001b[0m                                  Traceback (most recent call last)",
      "\u001b[1;32m~\\AppData\\Local\\Temp\\ipykernel_11240\\3209051863.py\u001b[0m in \u001b[0;36m<module>\u001b[1;34m\u001b[0m\n\u001b[0;32m      7\u001b[0m     \u001b[0mvenue\u001b[0m \u001b[1;33m=\u001b[0m \u001b[0mwnba_game_attendance\u001b[0m\u001b[1;33m[\u001b[0m\u001b[1;34m\"Location\"\u001b[0m\u001b[1;33m]\u001b[0m\u001b[1;33m[\u001b[0m\u001b[0mrow\u001b[0m\u001b[1;33m]\u001b[0m\u001b[1;33m\u001b[0m\u001b[1;33m\u001b[0m\u001b[0m\n\u001b[0;32m      8\u001b[0m \u001b[1;33m\u001b[0m\u001b[0m\n\u001b[1;32m----> 9\u001b[1;33m     \u001b[0mwnba_game_attendance\u001b[0m\u001b[1;33m[\u001b[0m\u001b[1;34m\"Location\"\u001b[0m\u001b[1;33m]\u001b[0m\u001b[1;33m[\u001b[0m\u001b[0mrow\u001b[0m\u001b[1;33m]\u001b[0m \u001b[1;33m=\u001b[0m \u001b[0mwnba_venue_capacity\u001b[0m\u001b[1;33m[\u001b[0m\u001b[0mvenue\u001b[0m\u001b[1;33m]\u001b[0m\u001b[1;33m\u001b[0m\u001b[1;33m\u001b[0m\u001b[0m\n\u001b[0m\u001b[0;32m     10\u001b[0m \u001b[1;33m\u001b[0m\u001b[0m\n\u001b[0;32m     11\u001b[0m \u001b[1;31m# Create dictionary with all games each team played\u001b[0m\u001b[1;33m\u001b[0m\u001b[1;33m\u001b[0m\u001b[1;33m\u001b[0m\u001b[0m\n",
      "\u001b[1;31mKeyError\u001b[0m: 3209"
     ]
    }
   ],
   "source": [
    "# Remove rows with no attendance data\n",
    "wnba_game_attendance.dropna(subset = [\"Attendance\"], inplace = True)\n",
    "\n",
    "# Need to add venue capacity column\n",
    "\n",
    "for row in range(wnba_game_attendance.size):\n",
    "    venue = wnba_game_attendance[\"Location\"][row]\n",
    "    \n",
    "    wnba_game_attendance[\"Location\"][row] = wnba_venue_capacity[venue]\n",
    "\n",
    "# Create dictionary with all games each team played\n",
    "wnba_team_data = {}\n",
    "for team in wnba_teams:\n",
    "    wnba_team_data[team] = wnba_game_attendance.loc[(wnba_game_attendance[\"Team\"] == team) | (wnba_game_attendance[\"Opponent\"] == team)]\n",
    "    \n",
    "wnba_attendance = pd.DataFrame(columns = [\"Year\",\"Overall Games\",\"Overall Average\",\"Overall Percent\"])\n",
    "\n",
    "for team in wnba_team_data:\n",
    "    for year in range(2019, 2024):\n",
    "        cap_sum = 0\n",
    "        \n",
    "        \n",
    "        \n",
    "        team_year_data = [year,\n",
    "                          rng.size,\n",
    "                          rng[\"Attendance\"].mean()\n",
    "                         # Overall percent\n",
    "                          ]"
   ]
  }
 ],
 "metadata": {
  "kernelspec": {
   "display_name": "Python 3 (ipykernel)",
   "language": "python",
   "name": "python3"
  },
  "language_info": {
   "codemirror_mode": {
    "name": "ipython",
    "version": 3
   },
   "file_extension": ".py",
   "mimetype": "text/x-python",
   "name": "python",
   "nbconvert_exporter": "python",
   "pygments_lexer": "ipython3",
   "version": "3.7.13"
  }
 },
 "nbformat": 4,
 "nbformat_minor": 5
}
