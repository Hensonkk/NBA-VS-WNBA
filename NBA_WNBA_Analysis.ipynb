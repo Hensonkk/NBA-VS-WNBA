{
 "cells": [
  {
   "cell_type": "code",
   "execution_count": 1,
   "id": "7de3c387",
   "metadata": {},
   "outputs": [],
   "source": [
    "# Dependencies and Setup\n",
    "import matplotlib.pyplot as plt\n",
    "import pandas as pd\n",
    "import numpy as np\n",
    "import scipy.stats as st"
   ]
  },
  {
   "cell_type": "code",
   "execution_count": 29,
   "id": "f4b6c2bd",
   "metadata": {},
   "outputs": [],
   "source": [
    "# Study data files\n",
    "nba_salaries_path = \"NBA_Salaries.csv\"\n",
    "wnba_salaries_path = \"WNBA_salaries.csv\""
   ]
  },
  {
   "cell_type": "code",
   "execution_count": 30,
   "id": "b1a9f10c",
   "metadata": {},
   "outputs": [],
   "source": [
    "# Read the mouse data and the study results\n",
    "nba_salaries = pd.read_csv(nba_salaries_path)\n",
    "wnba_salaries = pd.read_csv(wnba_salaries_path)"
   ]
  },
  {
   "cell_type": "code",
   "execution_count": 31,
   "id": "31914048",
   "metadata": {},
   "outputs": [
    {
     "data": {
      "text/plain": [
       "Index(['Year', 'Team ', 'Player', ' Salary ', ' Incentative '], dtype='object')"
      ]
     },
     "execution_count": 31,
     "metadata": {},
     "output_type": "execute_result"
    }
   ],
   "source": [
    "nba_salaries.columns"
   ]
  },
  {
   "cell_type": "code",
   "execution_count": 32,
   "id": "3454a367",
   "metadata": {},
   "outputs": [],
   "source": [
    "nba_salaries[\"Salary\"] = nba_salaries[\" Salary \"].str.replace(\",\",\"\")"
   ]
  },
  {
   "cell_type": "code",
   "execution_count": 33,
   "id": "b2b50b83",
   "metadata": {},
   "outputs": [
    {
     "name": "stderr",
     "output_type": "stream",
     "text": [
      "C:\\Users\\marye\\AppData\\Local\\Temp\\ipykernel_3312\\4281388950.py:1: FutureWarning: The default value of regex will change from True to False in a future version. In addition, single character regular expressions will *not* be treated as literal strings when regex=True.\n",
      "  nba_salaries[\"Salary\"] = nba_salaries[\"Salary\"].str.replace(\"$\",\"\")\n"
     ]
    }
   ],
   "source": [
    "nba_salaries[\"Salary\"] = nba_salaries[\"Salary\"].str.replace(\"$\",\"\")"
   ]
  },
  {
   "cell_type": "code",
   "execution_count": 34,
   "id": "964e9628",
   "metadata": {},
   "outputs": [
    {
     "data": {
      "text/plain": [
       "Year              int64\n",
       "Team             object\n",
       "Player           object\n",
       " Salary          object\n",
       " Incentative     object\n",
       "Salary           object\n",
       "dtype: object"
      ]
     },
     "execution_count": 34,
     "metadata": {},
     "output_type": "execute_result"
    }
   ],
   "source": [
    "nba_salaries.dtypes"
   ]
  },
  {
   "cell_type": "code",
   "execution_count": 35,
   "id": "82f4ba5f",
   "metadata": {},
   "outputs": [],
   "source": [
    "nba_salaries[\"Salary\"] = nba_salaries[\"Salary\"].astype(float)"
   ]
  },
  {
   "cell_type": "code",
   "execution_count": 36,
   "id": "11798d86",
   "metadata": {},
   "outputs": [
    {
     "data": {
      "text/plain": [
       "Year               int64\n",
       "Team              object\n",
       "Player            object\n",
       " Salary           object\n",
       " Incentative      object\n",
       "Salary           float64\n",
       "dtype: object"
      ]
     },
     "execution_count": 36,
     "metadata": {},
     "output_type": "execute_result"
    }
   ],
   "source": [
    "nba_salaries.dtypes"
   ]
  },
  {
   "cell_type": "code",
   "execution_count": 37,
   "id": "7bd5f26b",
   "metadata": {},
   "outputs": [
    {
     "data": {
      "text/html": [
       "<div>\n",
       "<style scoped>\n",
       "    .dataframe tbody tr th:only-of-type {\n",
       "        vertical-align: middle;\n",
       "    }\n",
       "\n",
       "    .dataframe tbody tr th {\n",
       "        vertical-align: top;\n",
       "    }\n",
       "\n",
       "    .dataframe thead th {\n",
       "        text-align: right;\n",
       "    }\n",
       "</style>\n",
       "<table border=\"1\" class=\"dataframe\">\n",
       "  <thead>\n",
       "    <tr style=\"text-align: right;\">\n",
       "      <th></th>\n",
       "      <th>Year</th>\n",
       "      <th>Team</th>\n",
       "      <th>Player</th>\n",
       "      <th>Salary</th>\n",
       "      <th>Incentative</th>\n",
       "      <th>Salary</th>\n",
       "    </tr>\n",
       "  </thead>\n",
       "  <tbody>\n",
       "    <tr>\n",
       "      <th>15</th>\n",
       "      <td>2023</td>\n",
       "      <td>Golden State Warriors</td>\n",
       "      <td>Stephen Curry</td>\n",
       "      <td>$51,915,615.00</td>\n",
       "      <td>NaN</td>\n",
       "      <td>51915615</td>\n",
       "    </tr>\n",
       "    <tr>\n",
       "      <th>65</th>\n",
       "      <td>2022</td>\n",
       "      <td>Golden State Warriors</td>\n",
       "      <td>Stephen Curry</td>\n",
       "      <td>$48,070,014.00</td>\n",
       "      <td>NaN</td>\n",
       "      <td>48070014</td>\n",
       "    </tr>\n",
       "    <tr>\n",
       "      <th>25</th>\n",
       "      <td>2023</td>\n",
       "      <td>LA Lakers</td>\n",
       "      <td>LeBron James</td>\n",
       "      <td>$47,607,350.00</td>\n",
       "      <td>NaN</td>\n",
       "      <td>47607350</td>\n",
       "    </tr>\n",
       "    <tr>\n",
       "      <th>45</th>\n",
       "      <td>2023</td>\n",
       "      <td>Phoenix Suns</td>\n",
       "      <td>Bradley Beal</td>\n",
       "      <td>$46,741,590.00</td>\n",
       "      <td>NaN</td>\n",
       "      <td>46741590</td>\n",
       "    </tr>\n",
       "    <tr>\n",
       "      <th>46</th>\n",
       "      <td>2023</td>\n",
       "      <td>Phoenix Suns</td>\n",
       "      <td>Kevin Durant</td>\n",
       "      <td>$46,407,433.00</td>\n",
       "      <td>$1,242,000.00</td>\n",
       "      <td>46407433</td>\n",
       "    </tr>\n",
       "    <tr>\n",
       "      <th>115</th>\n",
       "      <td>2021</td>\n",
       "      <td>Golden State Warriors</td>\n",
       "      <td>Stephen Curry</td>\n",
       "      <td>$45,780,966.00</td>\n",
       "      <td>NaN</td>\n",
       "      <td>45780966</td>\n",
       "    </tr>\n",
       "    <tr>\n",
       "      <th>75</th>\n",
       "      <td>2022</td>\n",
       "      <td>LA Lakers</td>\n",
       "      <td>LeBron James</td>\n",
       "      <td>$44,474,988.00</td>\n",
       "      <td>NaN</td>\n",
       "      <td>44474988</td>\n",
       "    </tr>\n",
       "    <tr>\n",
       "      <th>125</th>\n",
       "      <td>2021</td>\n",
       "      <td>LA Lakers</td>\n",
       "      <td>Russell Westbrook</td>\n",
       "      <td>$44,211,146.00</td>\n",
       "      <td>NaN</td>\n",
       "      <td>44211146</td>\n",
       "    </tr>\n",
       "    <tr>\n",
       "      <th>16</th>\n",
       "      <td>2023</td>\n",
       "      <td>Golden State Warriors</td>\n",
       "      <td>Klay Thompson</td>\n",
       "      <td>$43,219,440.00</td>\n",
       "      <td>NaN</td>\n",
       "      <td>43219440</td>\n",
       "    </tr>\n",
       "    <tr>\n",
       "      <th>165</th>\n",
       "      <td>2020</td>\n",
       "      <td>Golden State Warriors</td>\n",
       "      <td>Stephen Curry</td>\n",
       "      <td>$43,006,362.00</td>\n",
       "      <td>NaN</td>\n",
       "      <td>43006362</td>\n",
       "    </tr>\n",
       "    <tr>\n",
       "      <th>95</th>\n",
       "      <td>2022</td>\n",
       "      <td>Phoenix Suns</td>\n",
       "      <td>Kevin Durant</td>\n",
       "      <td>$42,969,845.00</td>\n",
       "      <td>NaN</td>\n",
       "      <td>42969845</td>\n",
       "    </tr>\n",
       "    <tr>\n",
       "      <th>195</th>\n",
       "      <td>2020</td>\n",
       "      <td>Phoenix Suns</td>\n",
       "      <td>Chris Paul</td>\n",
       "      <td>$41,358,814.00</td>\n",
       "      <td>NaN</td>\n",
       "      <td>41358814</td>\n",
       "    </tr>\n",
       "    <tr>\n",
       "      <th>126</th>\n",
       "      <td>2021</td>\n",
       "      <td>LA Lakers</td>\n",
       "      <td>LeBron James</td>\n",
       "      <td>$41,180,544.00</td>\n",
       "      <td>NaN</td>\n",
       "      <td>41180544</td>\n",
       "    </tr>\n",
       "    <tr>\n",
       "      <th>30</th>\n",
       "      <td>2023</td>\n",
       "      <td>Min Timberwolves</td>\n",
       "      <td>Rudy Gobert</td>\n",
       "      <td>$41,000,000.00</td>\n",
       "      <td>NaN</td>\n",
       "      <td>41000000</td>\n",
       "    </tr>\n",
       "    <tr>\n",
       "      <th>66</th>\n",
       "      <td>2022</td>\n",
       "      <td>Golden State Warriors</td>\n",
       "      <td>Klay Thompson</td>\n",
       "      <td>$40,600,080.00</td>\n",
       "      <td>NaN</td>\n",
       "      <td>40600080</td>\n",
       "    </tr>\n",
       "    <tr>\n",
       "      <th>26</th>\n",
       "      <td>2023</td>\n",
       "      <td>LA Lakers</td>\n",
       "      <td>Anthony Davis</td>\n",
       "      <td>$40,600,080.00</td>\n",
       "      <td>NaN</td>\n",
       "      <td>40600080</td>\n",
       "    </tr>\n",
       "    <tr>\n",
       "      <th>215</th>\n",
       "      <td>2019</td>\n",
       "      <td>Golden State Warriors</td>\n",
       "      <td>Stephen Curry</td>\n",
       "      <td>$40,231,758.00</td>\n",
       "      <td>NaN</td>\n",
       "      <td>40231758</td>\n",
       "    </tr>\n",
       "    <tr>\n",
       "      <th>0</th>\n",
       "      <td>2023</td>\n",
       "      <td>Atlanta Hawk</td>\n",
       "      <td>Trae Young</td>\n",
       "      <td>$40,064,220.00</td>\n",
       "      <td>NaN</td>\n",
       "      <td>40064220</td>\n",
       "    </tr>\n",
       "  </tbody>\n",
       "</table>\n",
       "</div>"
      ],
      "text/plain": [
       "     Year                  Team              Player          Salary   \\\n",
       "15   2023  Golden State Warriors      Stephen Curry  $51,915,615.00    \n",
       "65   2022  Golden State Warriors      Stephen Curry  $48,070,014.00    \n",
       "25   2023              LA Lakers       LeBron James  $47,607,350.00    \n",
       "45   2023           Phoenix Suns       Bradley Beal  $46,741,590.00    \n",
       "46   2023           Phoenix Suns       Kevin Durant  $46,407,433.00    \n",
       "115  2021  Golden State Warriors      Stephen Curry  $45,780,966.00    \n",
       "75   2022              LA Lakers       LeBron James  $44,474,988.00    \n",
       "125  2021              LA Lakers  Russell Westbrook  $44,211,146.00    \n",
       "16   2023  Golden State Warriors      Klay Thompson  $43,219,440.00    \n",
       "165  2020  Golden State Warriors      Stephen Curry  $43,006,362.00    \n",
       "95   2022           Phoenix Suns       Kevin Durant  $42,969,845.00    \n",
       "195  2020           Phoenix Suns         Chris Paul  $41,358,814.00    \n",
       "126  2021              LA Lakers       LeBron James  $41,180,544.00    \n",
       "30   2023       Min Timberwolves        Rudy Gobert  $41,000,000.00    \n",
       "66   2022  Golden State Warriors      Klay Thompson  $40,600,080.00    \n",
       "26   2023              LA Lakers      Anthony Davis  $40,600,080.00    \n",
       "215  2019  Golden State Warriors      Stephen Curry  $40,231,758.00    \n",
       "0    2023           Atlanta Hawk         Trae Young  $40,064,220.00    \n",
       "\n",
       "       Incentative    Salary  \n",
       "15              NaN 51915615  \n",
       "65              NaN 48070014  \n",
       "25              NaN 47607350  \n",
       "45              NaN 46741590  \n",
       "46   $1,242,000.00  46407433  \n",
       "115             NaN 45780966  \n",
       "75              NaN 44474988  \n",
       "125             NaN 44211146  \n",
       "16              NaN 43219440  \n",
       "165             NaN 43006362  \n",
       "95              NaN 42969845  \n",
       "195             NaN 41358814  \n",
       "126             NaN 41180544  \n",
       "30              NaN 41000000  \n",
       "66              NaN 40600080  \n",
       "26              NaN 40600080  \n",
       "215             NaN 40231758  \n",
       "0               NaN 40064220  "
      ]
     },
     "execution_count": 37,
     "metadata": {},
     "output_type": "execute_result"
    }
   ],
   "source": [
    "top_eighteen_best_paid_nba = nba_salaries.sort_values(by = \"Salary\", ascending = False)[:18]\n",
    "top_eighteen_best_paid_nba"
   ]
  },
  {
   "cell_type": "code",
   "execution_count": 38,
   "id": "e941780f",
   "metadata": {},
   "outputs": [],
   "source": [
    "top_ten_best_paid_nba = top_eighteen_best_paid_nba.drop_duplicates([\"Player\"])"
   ]
  },
  {
   "cell_type": "code",
   "execution_count": 39,
   "id": "8624191d",
   "metadata": {},
   "outputs": [],
   "source": [
    "x_axis = np.arange(0, len(top_ten_best_paid_nba[\"Player\"]))"
   ]
  },
  {
   "cell_type": "code",
   "execution_count": 40,
   "id": "03d02107",
   "metadata": {},
   "outputs": [
    {
     "data": {
      "text/plain": [
       "array([0, 1, 2, 3, 4, 5, 6, 7, 8, 9])"
      ]
     },
     "execution_count": 40,
     "metadata": {},
     "output_type": "execute_result"
    }
   ],
   "source": [
    "x_axis"
   ]
  },
  {
   "cell_type": "code",
   "execution_count": 41,
   "id": "8d8e5014",
   "metadata": {},
   "outputs": [
    {
     "data": {
      "text/plain": [
       "15         Stephen Curry\n",
       "25          LeBron James\n",
       "45          Bradley Beal\n",
       "46          Kevin Durant\n",
       "125    Russell Westbrook\n",
       "16         Klay Thompson\n",
       "195           Chris Paul\n",
       "30           Rudy Gobert\n",
       "26         Anthony Davis\n",
       "0             Trae Young\n",
       "Name: Player, dtype: object"
      ]
     },
     "execution_count": 41,
     "metadata": {},
     "output_type": "execute_result"
    }
   ],
   "source": [
    "Player = top_ten_best_paid_nba['Player']\n",
    "Player"
   ]
  },
  {
   "cell_type": "code",
   "execution_count": 42,
   "id": "d00981f1",
   "metadata": {},
   "outputs": [],
   "source": [
    "Salary = top_ten_best_paid_nba['Salary']"
   ]
  },
  {
   "cell_type": "markdown",
   "id": "b7a81385",
   "metadata": {},
   "source": [
    "## NBA Summary Stats"
   ]
  },
  {
   "cell_type": "code",
   "execution_count": 43,
   "id": "e443d3f1",
   "metadata": {},
   "outputs": [
    {
     "data": {
      "text/plain": [
       "Year\n",
       "2019   18486721\n",
       "2020   17207762\n",
       "2021   18596450\n",
       "2022   23176001\n",
       "2023   24584308\n",
       "Name: Salary, dtype: float64"
      ]
     },
     "execution_count": 43,
     "metadata": {},
     "output_type": "execute_result"
    }
   ],
   "source": [
    "mean = nba_salaries.groupby('Year')['Salary'].mean()\n",
    "mean"
   ]
  },
  {
   "cell_type": "code",
   "execution_count": 44,
   "id": "d214893d",
   "metadata": {},
   "outputs": [
    {
     "data": {
      "text/plain": [
       "Year\n",
       "2019   17100000\n",
       "2020   14937500\n",
       "2021   17142857\n",
       "2022   21261364\n",
       "2023   20795500\n",
       "Name: Salary, dtype: float64"
      ]
     },
     "execution_count": 44,
     "metadata": {},
     "output_type": "execute_result"
    }
   ],
   "source": [
    "median = nba_salaries.groupby('Year')['Salary'].median()\n",
    "median"
   ]
  },
  {
   "cell_type": "code",
   "execution_count": 45,
   "id": "12ce6d3e",
   "metadata": {},
   "outputs": [
    {
     "data": {
      "text/plain": [
       "Year\n",
       "2019    82463923941902\n",
       "2020   104962506244868\n",
       "2021   114300422660927\n",
       "2022   137196495921147\n",
       "2023   150999420574197\n",
       "Name: Salary, dtype: float64"
      ]
     },
     "execution_count": 45,
     "metadata": {},
     "output_type": "execute_result"
    }
   ],
   "source": [
    "variance = nba_salaries.groupby('Year')['Salary'].var()\n",
    "pd.options.display.float_format = '{:.0f}'.format\n",
    "variance"
   ]
  },
  {
   "cell_type": "code",
   "execution_count": 46,
   "id": "55cc2ccc",
   "metadata": {},
   "outputs": [
    {
     "data": {
      "text/plain": [
       "Year\n",
       "2019    9080965\n",
       "2020   10245121\n",
       "2021   10691138\n",
       "2022   11713091\n",
       "2023   12288182\n",
       "Name: Salary, dtype: float64"
      ]
     },
     "execution_count": 46,
     "metadata": {},
     "output_type": "execute_result"
    }
   ],
   "source": [
    "std = nba_salaries.groupby('Year')['Salary'].std()\n",
    "pd.options.display.float_format = '{:.0f}'.format\n",
    "std"
   ]
  },
  {
   "cell_type": "code",
   "execution_count": 47,
   "id": "8052b374",
   "metadata": {},
   "outputs": [
    {
     "data": {
      "text/plain": [
       "Year\n",
       "2019   1284242\n",
       "2020   1448879\n",
       "2021   1511955\n",
       "2022   1656481\n",
       "2023   1737811\n",
       "Name: Salary, dtype: float64"
      ]
     },
     "execution_count": 47,
     "metadata": {},
     "output_type": "execute_result"
    }
   ],
   "source": [
    "sem = nba_salaries.groupby('Year')['Salary'].sem()\n",
    "sem"
   ]
  },
  {
   "cell_type": "code",
   "execution_count": 48,
   "id": "33b26ad0",
   "metadata": {},
   "outputs": [
    {
     "data": {
      "text/html": [
       "<div>\n",
       "<style scoped>\n",
       "    .dataframe tbody tr th:only-of-type {\n",
       "        vertical-align: middle;\n",
       "    }\n",
       "\n",
       "    .dataframe tbody tr th {\n",
       "        vertical-align: top;\n",
       "    }\n",
       "\n",
       "    .dataframe thead th {\n",
       "        text-align: right;\n",
       "    }\n",
       "</style>\n",
       "<table border=\"1\" class=\"dataframe\">\n",
       "  <thead>\n",
       "    <tr style=\"text-align: right;\">\n",
       "      <th></th>\n",
       "      <th>mean</th>\n",
       "      <th>median</th>\n",
       "      <th>var</th>\n",
       "      <th>std</th>\n",
       "      <th>sem</th>\n",
       "    </tr>\n",
       "    <tr>\n",
       "      <th>Year</th>\n",
       "      <th></th>\n",
       "      <th></th>\n",
       "      <th></th>\n",
       "      <th></th>\n",
       "      <th></th>\n",
       "    </tr>\n",
       "  </thead>\n",
       "  <tbody>\n",
       "    <tr>\n",
       "      <th>2019</th>\n",
       "      <td>18486721</td>\n",
       "      <td>17100000</td>\n",
       "      <td>82463923941902</td>\n",
       "      <td>9080965</td>\n",
       "      <td>1284242</td>\n",
       "    </tr>\n",
       "    <tr>\n",
       "      <th>2020</th>\n",
       "      <td>17207762</td>\n",
       "      <td>14937500</td>\n",
       "      <td>104962506244868</td>\n",
       "      <td>10245121</td>\n",
       "      <td>1448879</td>\n",
       "    </tr>\n",
       "    <tr>\n",
       "      <th>2021</th>\n",
       "      <td>18596450</td>\n",
       "      <td>17142857</td>\n",
       "      <td>114300422660927</td>\n",
       "      <td>10691138</td>\n",
       "      <td>1511955</td>\n",
       "    </tr>\n",
       "    <tr>\n",
       "      <th>2022</th>\n",
       "      <td>23176001</td>\n",
       "      <td>21261364</td>\n",
       "      <td>137196495921147</td>\n",
       "      <td>11713091</td>\n",
       "      <td>1656481</td>\n",
       "    </tr>\n",
       "    <tr>\n",
       "      <th>2023</th>\n",
       "      <td>24584308</td>\n",
       "      <td>20795500</td>\n",
       "      <td>150999420574197</td>\n",
       "      <td>12288182</td>\n",
       "      <td>1737811</td>\n",
       "    </tr>\n",
       "  </tbody>\n",
       "</table>\n",
       "</div>"
      ],
      "text/plain": [
       "         mean   median             var      std     sem\n",
       "Year                                                   \n",
       "2019 18486721 17100000  82463923941902  9080965 1284242\n",
       "2020 17207762 14937500 104962506244868 10245121 1448879\n",
       "2021 18596450 17142857 114300422660927 10691138 1511955\n",
       "2022 23176001 21261364 137196495921147 11713091 1656481\n",
       "2023 24584308 20795500 150999420574197 12288182 1737811"
      ]
     },
     "metadata": {},
     "output_type": "display_data"
    }
   ],
   "source": [
    "summary_stats = nba_salaries.groupby('Year')['Salary'].agg(['mean', 'median', 'var', 'std','sem'])\n",
    "display(summary_stats)"
   ]
  },
  {
   "cell_type": "markdown",
   "id": "720dbc52",
   "metadata": {},
   "source": [
    "## NBA Graphs"
   ]
  },
  {
   "cell_type": "code",
   "execution_count": 49,
   "id": "7994999b",
   "metadata": {},
   "outputs": [
    {
     "data": {
      "image/png": "[encoded data removed]",
      "text/plain": [
       "<Figure size 1000x600 with 1 Axes>"
      ]
     },
     "metadata": {},
     "output_type": "display_data"
    }
   ],
   "source": [
    "#top_ten_best_paid_nba = nba_salaries.sort_values(by = \"Salary\", ascending = False)[:10]\n",
    "\n",
    "plt.figure(figsize=(10,6))\n",
    "plt.bar(x_axis, Salary, facecolor = \"blue\")\n",
    "plt.title(\"Top Ten Best Paid NBA Players\")\n",
    "plt.xlabel(\"Player\")\n",
    "plt.xticks(x_axis,Player,rotation=45)\n",
    "plt.ylim(35e6,53e6)\n",
    "plt.ylabel(\"Salary ($)\")\n",
    "\n",
    "plt.tight_layout()\n",
    "plt.ticklabel_format(style='plain', useOffset=False, axis='y')\n",
    "\n",
    "plt.savefig(\"graph_outputs/TopTen_NBA.png\")\n",
    "plt.show()"
   ]
  },
  {
   "cell_type": "code",
   "execution_count": 50,
   "id": "ecab1e01",
   "metadata": {},
   "outputs": [
    {
     "data": {
      "text/plain": [
       "array([ 15,  25,  45,  46, 125,  16, 195,  30,  26,   0], dtype=int64)"
      ]
     },
     "execution_count": 50,
     "metadata": {},
     "output_type": "execute_result"
    }
   ],
   "source": [
    "top_ten_best_paid_nba.index.values"
   ]
  },
  {
   "cell_type": "code",
   "execution_count": 51,
   "id": "a04bbba7",
   "metadata": {},
   "outputs": [
    {
     "data": {
      "text/plain": [
       "count        250\n",
       "mean    20410248\n",
       "std     11161845\n",
       "min      2964840\n",
       "25%     11080125\n",
       "50%     18000000\n",
       "75%     27450000\n",
       "max     51915615\n",
       "Name: Salary, dtype: float64"
      ]
     },
     "execution_count": 51,
     "metadata": {},
     "output_type": "execute_result"
    }
   ],
   "source": [
    "df = nba_salaries.describe()\n",
    "df[\"Salary\"]"
   ]
  },
  {
   "cell_type": "code",
   "execution_count": 52,
   "id": "ba59eabe",
   "metadata": {},
   "outputs": [
    {
     "data": {
      "image/png": "[encoded data removed]",
      "text/plain": [
       "<Figure size 640x480 with 1 Axes>"
      ]
     },
     "metadata": {},
     "output_type": "display_data"
    }
   ],
   "source": [
    "df['Salary'].plot(kind = \"bar\", color = \"blue\")\n",
    "\n",
    "plt.title(\"NBA Summary\")\n",
    "plt.xlabel(\"Summary Stats\")\n",
    "#plt.xticks(wnba_x_axis,wnba_player,rotation=45)\n",
    "#plt.ylim(210000,236000)\n",
    "plt.ylabel(\"Salary ($)\")\n",
    "plt.tight_layout()\n",
    "\n",
    "plt.savefig(\"graph_outputs/NBA_summary.png\")\n",
    "plt.show()"
   ]
  },
  {
   "cell_type": "code",
   "execution_count": null,
   "id": "6216bdfa",
   "metadata": {},
   "outputs": [],
   "source": []
  },
  {
   "cell_type": "code",
   "execution_count": null,
   "id": "a4e7915d",
   "metadata": {},
   "outputs": [],
   "source": []
  },
  {
   "cell_type": "markdown",
   "id": "71ae253e",
   "metadata": {},
   "source": [
    "## WNBA Summary Stats"
   ]
  },
  {
   "cell_type": "code",
   "execution_count": 53,
   "id": "f03f7dc6",
   "metadata": {},
   "outputs": [
    {
     "data": {
      "text/plain": [
       "Year       int64\n",
       "Team      object\n",
       "Player    object\n",
       "Salary    object\n",
       "Bonus     object\n",
       "dtype: object"
      ]
     },
     "execution_count": 53,
     "metadata": {},
     "output_type": "execute_result"
    }
   ],
   "source": [
    "wnba_salaries.dtypes"
   ]
  },
  {
   "cell_type": "code",
   "execution_count": 54,
   "id": "7757c7ca",
   "metadata": {},
   "outputs": [
    {
     "data": {
      "text/plain": [
       "Index(['Year', 'Team ', 'Player', 'Salary', 'Bonus'], dtype='object')"
      ]
     },
     "execution_count": 54,
     "metadata": {},
     "output_type": "execute_result"
    }
   ],
   "source": [
    "wnba_salaries.columns"
   ]
  },
  {
   "cell_type": "code",
   "execution_count": 55,
   "id": "0ebd0b84",
   "metadata": {},
   "outputs": [],
   "source": [
    "wnba_salaries = wnba_salaries.rename(columns=str.strip)"
   ]
  },
  {
   "cell_type": "code",
   "execution_count": 56,
   "id": "1b75dd33",
   "metadata": {},
   "outputs": [
    {
     "data": {
      "text/html": [
       "<div>\n",
       "<style scoped>\n",
       "    .dataframe tbody tr th:only-of-type {\n",
       "        vertical-align: middle;\n",
       "    }\n",
       "\n",
       "    .dataframe tbody tr th {\n",
       "        vertical-align: top;\n",
       "    }\n",
       "\n",
       "    .dataframe thead th {\n",
       "        text-align: right;\n",
       "    }\n",
       "</style>\n",
       "<table border=\"1\" class=\"dataframe\">\n",
       "  <thead>\n",
       "    <tr style=\"text-align: right;\">\n",
       "      <th></th>\n",
       "      <th>Year</th>\n",
       "      <th>Team</th>\n",
       "      <th>Player</th>\n",
       "      <th>Salary</th>\n",
       "      <th>Bonus</th>\n",
       "    </tr>\n",
       "  </thead>\n",
       "  <tbody>\n",
       "    <tr>\n",
       "      <th>0</th>\n",
       "      <td>2023</td>\n",
       "      <td>Atlanta Dream</td>\n",
       "      <td>Cheyenne Parker</td>\n",
       "      <td>$196,100.00</td>\n",
       "      <td>NaN</td>\n",
       "    </tr>\n",
       "    <tr>\n",
       "      <th>1</th>\n",
       "      <td>2023</td>\n",
       "      <td>Atlanta Dream</td>\n",
       "      <td>Allisha Gray</td>\n",
       "      <td>$169,600.00</td>\n",
       "      <td>$25,000.00</td>\n",
       "    </tr>\n",
       "    <tr>\n",
       "      <th>2</th>\n",
       "      <td>2023</td>\n",
       "      <td>Atlanta Dream</td>\n",
       "      <td>Danielle Robinson</td>\n",
       "      <td>$155,000.00</td>\n",
       "      <td>NaN</td>\n",
       "    </tr>\n",
       "    <tr>\n",
       "      <th>3</th>\n",
       "      <td>2023</td>\n",
       "      <td>Atlanta Dream</td>\n",
       "      <td>Monique Billings</td>\n",
       "      <td>$145,000.00</td>\n",
       "      <td>NaN</td>\n",
       "    </tr>\n",
       "    <tr>\n",
       "      <th>4</th>\n",
       "      <td>2023</td>\n",
       "      <td>Atlanta Dream</td>\n",
       "      <td>Nia Coffey</td>\n",
       "      <td>$130,000.00</td>\n",
       "      <td>NaN</td>\n",
       "    </tr>\n",
       "    <tr>\n",
       "      <th>...</th>\n",
       "      <td>...</td>\n",
       "      <td>...</td>\n",
       "      <td>...</td>\n",
       "      <td>...</td>\n",
       "      <td>...</td>\n",
       "    </tr>\n",
       "    <tr>\n",
       "      <th>245</th>\n",
       "      <td>2019</td>\n",
       "      <td>Seattle Storm</td>\n",
       "      <td>Sue Bird</td>\n",
       "      <td>$117,500.00</td>\n",
       "      <td>NaN</td>\n",
       "    </tr>\n",
       "    <tr>\n",
       "      <th>246</th>\n",
       "      <td>2019</td>\n",
       "      <td>Seattle Storm</td>\n",
       "      <td>Jewell Loyd</td>\n",
       "      <td>$117,500.00</td>\n",
       "      <td>NaN</td>\n",
       "    </tr>\n",
       "    <tr>\n",
       "      <th>247</th>\n",
       "      <td>2019</td>\n",
       "      <td>Seattle Storm</td>\n",
       "      <td>Natasha Howard</td>\n",
       "      <td>$115,000.00</td>\n",
       "      <td>NaN</td>\n",
       "    </tr>\n",
       "    <tr>\n",
       "      <th>248</th>\n",
       "      <td>2019</td>\n",
       "      <td>Seattle Storm</td>\n",
       "      <td>Courtney Paris</td>\n",
       "      <td>$111,000.00</td>\n",
       "      <td>NaN</td>\n",
       "    </tr>\n",
       "    <tr>\n",
       "      <th>249</th>\n",
       "      <td>2019</td>\n",
       "      <td>Seattle Storm</td>\n",
       "      <td>Crystal Langhorne</td>\n",
       "      <td>$105,000.00</td>\n",
       "      <td>NaN</td>\n",
       "    </tr>\n",
       "  </tbody>\n",
       "</table>\n",
       "<p>250 rows × 5 columns</p>\n",
       "</div>"
      ],
      "text/plain": [
       "     Year           Team             Player        Salary        Bonus\n",
       "0    2023  Atlanta Dream    Cheyenne Parker  $196,100.00           NaN\n",
       "1    2023  Atlanta Dream       Allisha Gray  $169,600.00   $25,000.00 \n",
       "2    2023  Atlanta Dream  Danielle Robinson  $155,000.00           NaN\n",
       "3    2023  Atlanta Dream   Monique Billings  $145,000.00           NaN\n",
       "4    2023  Atlanta Dream         Nia Coffey  $130,000.00           NaN\n",
       "..    ...            ...                ...           ...          ...\n",
       "245  2019  Seattle Storm           Sue Bird  $117,500.00           NaN\n",
       "246  2019  Seattle Storm        Jewell Loyd  $117,500.00           NaN\n",
       "247  2019  Seattle Storm     Natasha Howard  $115,000.00           NaN\n",
       "248  2019  Seattle Storm     Courtney Paris  $111,000.00           NaN\n",
       "249  2019  Seattle Storm  Crystal Langhorne  $105,000.00           NaN\n",
       "\n",
       "[250 rows x 5 columns]"
      ]
     },
     "execution_count": 56,
     "metadata": {},
     "output_type": "execute_result"
    }
   ],
   "source": [
    "wnba_salaries"
   ]
  },
  {
   "cell_type": "code",
   "execution_count": 57,
   "id": "5eef1c20",
   "metadata": {},
   "outputs": [
    {
     "data": {
      "text/plain": [
       "Year       int64\n",
       "Team      object\n",
       "Player    object\n",
       "Salary    object\n",
       "Bonus     object\n",
       "dtype: object"
      ]
     },
     "execution_count": 57,
     "metadata": {},
     "output_type": "execute_result"
    }
   ],
   "source": [
    "wnba_salaries.dtypes"
   ]
  },
  {
   "cell_type": "code",
   "execution_count": 58,
   "id": "28a4f19c",
   "metadata": {},
   "outputs": [],
   "source": [
    "#wnba_salaries[\"Salary\"] = wnba_salaries[\" Salary \"].str.replace(\",\",\"\")"
   ]
  },
  {
   "cell_type": "code",
   "execution_count": 59,
   "id": "c49eadf3",
   "metadata": {},
   "outputs": [
    {
     "name": "stderr",
     "output_type": "stream",
     "text": [
      "C:\\Users\\marye\\AppData\\Local\\Temp\\ipykernel_3312\\941997773.py:1: FutureWarning: The default value of regex will change from True to False in a future version. In addition, single character regular expressions will *not* be treated as literal strings when regex=True.\n",
      "  wnba_salaries[\"Salary\"] = wnba_salaries[\"Salary\"].str.replace(\"$\",\"\")\n"
     ]
    }
   ],
   "source": [
    "wnba_salaries[\"Salary\"] = wnba_salaries[\"Salary\"].str.replace(\"$\",\"\")"
   ]
  },
  {
   "cell_type": "code",
   "execution_count": 60,
   "id": "717ab25e",
   "metadata": {},
   "outputs": [],
   "source": [
    "wnba_salaries[\"Salary\"] = wnba_salaries[\"Salary\"].str.replace(\",\",\"\")"
   ]
  },
  {
   "cell_type": "code",
   "execution_count": 61,
   "id": "663f39bd",
   "metadata": {},
   "outputs": [],
   "source": [
    "#wnba_salaries.dtypes"
   ]
  },
  {
   "cell_type": "code",
   "execution_count": 62,
   "id": "ef4dffc5",
   "metadata": {},
   "outputs": [],
   "source": [
    "wnba_salaries[\"Salary\"] = wnba_salaries[\"Salary\"].astype(float)"
   ]
  },
  {
   "cell_type": "code",
   "execution_count": 63,
   "id": "44d93f04",
   "metadata": {},
   "outputs": [
    {
     "data": {
      "text/plain": [
       "Year        int64\n",
       "Team       object\n",
       "Player     object\n",
       "Salary    float64\n",
       "Bonus      object\n",
       "dtype: object"
      ]
     },
     "execution_count": 63,
     "metadata": {},
     "output_type": "execute_result"
    }
   ],
   "source": [
    "wnba_salaries.dtypes"
   ]
  },
  {
   "cell_type": "code",
   "execution_count": 64,
   "id": "33aea996",
   "metadata": {},
   "outputs": [
    {
     "data": {
      "text/html": [
       "<div>\n",
       "<style scoped>\n",
       "    .dataframe tbody tr th:only-of-type {\n",
       "        vertical-align: middle;\n",
       "    }\n",
       "\n",
       "    .dataframe tbody tr th {\n",
       "        vertical-align: top;\n",
       "    }\n",
       "\n",
       "    .dataframe thead th {\n",
       "        text-align: right;\n",
       "    }\n",
       "</style>\n",
       "<table border=\"1\" class=\"dataframe\">\n",
       "  <thead>\n",
       "    <tr style=\"text-align: right;\">\n",
       "      <th></th>\n",
       "      <th>Year</th>\n",
       "      <th>Team</th>\n",
       "      <th>Player</th>\n",
       "      <th>Salary</th>\n",
       "      <th>Bonus</th>\n",
       "    </tr>\n",
       "  </thead>\n",
       "  <tbody>\n",
       "    <tr>\n",
       "      <th>111</th>\n",
       "      <td>2021</td>\n",
       "      <td>Dallas Wings</td>\n",
       "      <td>Allisha Gray</td>\n",
       "      <td>160000</td>\n",
       "      <td>NaN</td>\n",
       "    </tr>\n",
       "    <tr>\n",
       "      <th>76</th>\n",
       "      <td>2022</td>\n",
       "      <td>Las Vegas Aces</td>\n",
       "      <td>A'ja Wilson</td>\n",
       "      <td>196267</td>\n",
       "      <td>NaN</td>\n",
       "    </tr>\n",
       "    <tr>\n",
       "      <th>52</th>\n",
       "      <td>2022</td>\n",
       "      <td>Atlanta Dream</td>\n",
       "      <td>Erica Wheeler</td>\n",
       "      <td>185400</td>\n",
       "      <td>NaN</td>\n",
       "    </tr>\n",
       "    <tr>\n",
       "      <th>125</th>\n",
       "      <td>2021</td>\n",
       "      <td>Las Vegas Aces</td>\n",
       "      <td>Liz Cambage</td>\n",
       "      <td>221450</td>\n",
       "      <td>NaN</td>\n",
       "    </tr>\n",
       "    <tr>\n",
       "      <th>74</th>\n",
       "      <td>2022</td>\n",
       "      <td>Los Angeles Sparks</td>\n",
       "      <td>Brittney Sykes</td>\n",
       "      <td>113300</td>\n",
       "      <td>NaN</td>\n",
       "    </tr>\n",
       "    <tr>\n",
       "      <th>186</th>\n",
       "      <td>2020</td>\n",
       "      <td>New York Liberty</td>\n",
       "      <td>Layshia Claredon</td>\n",
       "      <td>120000</td>\n",
       "      <td>NaN</td>\n",
       "    </tr>\n",
       "    <tr>\n",
       "      <th>46</th>\n",
       "      <td>2023</td>\n",
       "      <td>Seattle Storm</td>\n",
       "      <td>Mercedes Russell</td>\n",
       "      <td>160000</td>\n",
       "      <td>NaN</td>\n",
       "    </tr>\n",
       "    <tr>\n",
       "      <th>183</th>\n",
       "      <td>2020</td>\n",
       "      <td>Minnesota Lynx</td>\n",
       "      <td>Shenise Johnson</td>\n",
       "      <td>106000</td>\n",
       "      <td>NaN</td>\n",
       "    </tr>\n",
       "    <tr>\n",
       "      <th>162</th>\n",
       "      <td>2020</td>\n",
       "      <td>Dallas Wings</td>\n",
       "      <td>Isabelle Harrison</td>\n",
       "      <td>150000</td>\n",
       "      <td>NaN</td>\n",
       "    </tr>\n",
       "    <tr>\n",
       "      <th>50</th>\n",
       "      <td>2022</td>\n",
       "      <td>Atlanta Dream</td>\n",
       "      <td>Tiffany Hayes</td>\n",
       "      <td>215000</td>\n",
       "      <td>NaN</td>\n",
       "    </tr>\n",
       "  </tbody>\n",
       "</table>\n",
       "</div>"
      ],
      "text/plain": [
       "     Year                Team             Player  Salary Bonus\n",
       "111  2021        Dallas Wings       Allisha Gray  160000   NaN\n",
       "76   2022      Las Vegas Aces        A'ja Wilson  196267   NaN\n",
       "52   2022       Atlanta Dream      Erica Wheeler  185400   NaN\n",
       "125  2021      Las Vegas Aces        Liz Cambage  221450   NaN\n",
       "74   2022  Los Angeles Sparks     Brittney Sykes  113300   NaN\n",
       "186  2020    New York Liberty   Layshia Claredon  120000   NaN\n",
       "46   2023       Seattle Storm   Mercedes Russell  160000   NaN\n",
       "183  2020      Minnesota Lynx    Shenise Johnson  106000   NaN\n",
       "162  2020        Dallas Wings  Isabelle Harrison  150000   NaN\n",
       "50   2022       Atlanta Dream      Tiffany Hayes  215000   NaN"
      ]
     },
     "execution_count": 64,
     "metadata": {},
     "output_type": "execute_result"
    }
   ],
   "source": [
    "wnba_salaries.sample(10)"
   ]
  },
  {
   "cell_type": "code",
   "execution_count": 65,
   "id": "72ec6a26",
   "metadata": {},
   "outputs": [
    {
     "data": {
      "text/plain": [
       "Year\n",
       "2019   109442\n",
       "2020   139384\n",
       "2021   160684\n",
       "2022   164109\n",
       "2023   172356\n",
       "Name: Salary, dtype: float64"
      ]
     },
     "execution_count": 65,
     "metadata": {},
     "output_type": "execute_result"
    }
   ],
   "source": [
    "mean = wnba_salaries.groupby('Year')['Salary'].mean()\n",
    "mean"
   ]
  },
  {
   "cell_type": "code",
   "execution_count": 66,
   "id": "73ff16bc",
   "metadata": {},
   "outputs": [
    {
     "data": {
      "text/plain": [
       "Year\n",
       "2019   115000\n",
       "2020   119500\n",
       "2021   175000\n",
       "2022   160000\n",
       "2023   169250\n",
       "Name: Salary, dtype: float64"
      ]
     },
     "execution_count": 66,
     "metadata": {},
     "output_type": "execute_result"
    }
   ],
   "source": [
    "median = wnba_salaries.groupby('Year')['Salary'].median()\n",
    "median"
   ]
  },
  {
   "cell_type": "code",
   "execution_count": 67,
   "id": "c98ffef4",
   "metadata": {},
   "outputs": [
    {
     "data": {
      "text/plain": [
       "Year\n",
       "2019    151712901\n",
       "2020   1694563088\n",
       "2021   1907347395\n",
       "2022   1996420817\n",
       "2023   1445142210\n",
       "Name: Salary, dtype: float64"
      ]
     },
     "execution_count": 67,
     "metadata": {},
     "output_type": "execute_result"
    }
   ],
   "source": [
    "variance = wnba_salaries.groupby('Year')['Salary'].var()\n",
    "variance"
   ]
  },
  {
   "cell_type": "code",
   "execution_count": 68,
   "id": "0c21f062",
   "metadata": {},
   "outputs": [
    {
     "data": {
      "text/plain": [
       "Year\n",
       "2019   12317\n",
       "2020   41165\n",
       "2021   43673\n",
       "2022   44681\n",
       "2023   38015\n",
       "Name: Salary, dtype: float64"
      ]
     },
     "execution_count": 68,
     "metadata": {},
     "output_type": "execute_result"
    }
   ],
   "source": [
    "std = wnba_salaries.groupby('Year')['Salary'].std()\n",
    "std"
   ]
  },
  {
   "cell_type": "code",
   "execution_count": 69,
   "id": "f13ff239",
   "metadata": {},
   "outputs": [
    {
     "data": {
      "text/plain": [
       "Year\n",
       "2019   1742\n",
       "2020   5822\n",
       "2021   6176\n",
       "2022   6319\n",
       "2023   5376\n",
       "Name: Salary, dtype: float64"
      ]
     },
     "execution_count": 69,
     "metadata": {},
     "output_type": "execute_result"
    }
   ],
   "source": [
    "sem = wnba_salaries.groupby('Year')['Salary'].sem()\n",
    "sem"
   ]
  },
  {
   "cell_type": "code",
   "execution_count": 70,
   "id": "b389cd36",
   "metadata": {},
   "outputs": [
    {
     "data": {
      "text/html": [
       "<div>\n",
       "<style scoped>\n",
       "    .dataframe tbody tr th:only-of-type {\n",
       "        vertical-align: middle;\n",
       "    }\n",
       "\n",
       "    .dataframe tbody tr th {\n",
       "        vertical-align: top;\n",
       "    }\n",
       "\n",
       "    .dataframe thead th {\n",
       "        text-align: right;\n",
       "    }\n",
       "</style>\n",
       "<table border=\"1\" class=\"dataframe\">\n",
       "  <thead>\n",
       "    <tr style=\"text-align: right;\">\n",
       "      <th></th>\n",
       "      <th>mean</th>\n",
       "      <th>median</th>\n",
       "      <th>var</th>\n",
       "      <th>std</th>\n",
       "      <th>sem</th>\n",
       "    </tr>\n",
       "    <tr>\n",
       "      <th>Year</th>\n",
       "      <th></th>\n",
       "      <th></th>\n",
       "      <th></th>\n",
       "      <th></th>\n",
       "      <th></th>\n",
       "    </tr>\n",
       "  </thead>\n",
       "  <tbody>\n",
       "    <tr>\n",
       "      <th>2019</th>\n",
       "      <td>109442</td>\n",
       "      <td>115000</td>\n",
       "      <td>151712901</td>\n",
       "      <td>12317</td>\n",
       "      <td>1742</td>\n",
       "    </tr>\n",
       "    <tr>\n",
       "      <th>2020</th>\n",
       "      <td>139384</td>\n",
       "      <td>119500</td>\n",
       "      <td>1694563088</td>\n",
       "      <td>41165</td>\n",
       "      <td>5822</td>\n",
       "    </tr>\n",
       "    <tr>\n",
       "      <th>2021</th>\n",
       "      <td>160684</td>\n",
       "      <td>175000</td>\n",
       "      <td>1907347395</td>\n",
       "      <td>43673</td>\n",
       "      <td>6176</td>\n",
       "    </tr>\n",
       "    <tr>\n",
       "      <th>2022</th>\n",
       "      <td>164109</td>\n",
       "      <td>160000</td>\n",
       "      <td>1996420817</td>\n",
       "      <td>44681</td>\n",
       "      <td>6319</td>\n",
       "    </tr>\n",
       "    <tr>\n",
       "      <th>2023</th>\n",
       "      <td>172356</td>\n",
       "      <td>169250</td>\n",
       "      <td>1445142210</td>\n",
       "      <td>38015</td>\n",
       "      <td>5376</td>\n",
       "    </tr>\n",
       "  </tbody>\n",
       "</table>\n",
       "</div>"
      ],
      "text/plain": [
       "       mean  median        var   std  sem\n",
       "Year                                     \n",
       "2019 109442  115000  151712901 12317 1742\n",
       "2020 139384  119500 1694563088 41165 5822\n",
       "2021 160684  175000 1907347395 43673 6176\n",
       "2022 164109  160000 1996420817 44681 6319\n",
       "2023 172356  169250 1445142210 38015 5376"
      ]
     },
     "execution_count": 70,
     "metadata": {},
     "output_type": "execute_result"
    }
   ],
   "source": [
    "wnba_summary_stats = wnba_salaries.groupby('Year')['Salary'].agg(['mean', 'median', 'var', 'std','sem'])\n",
    "wnba_summary_stats"
   ]
  },
  {
   "cell_type": "markdown",
   "id": "c572d268",
   "metadata": {},
   "source": [
    "## WNBA Graphs"
   ]
  },
  {
   "cell_type": "code",
   "execution_count": 71,
   "id": "f5d7c76e",
   "metadata": {},
   "outputs": [
    {
     "data": {
      "text/html": [
       "<div>\n",
       "<style scoped>\n",
       "    .dataframe tbody tr th:only-of-type {\n",
       "        vertical-align: middle;\n",
       "    }\n",
       "\n",
       "    .dataframe tbody tr th {\n",
       "        vertical-align: top;\n",
       "    }\n",
       "\n",
       "    .dataframe thead th {\n",
       "        text-align: right;\n",
       "    }\n",
       "</style>\n",
       "<table border=\"1\" class=\"dataframe\">\n",
       "  <thead>\n",
       "    <tr style=\"text-align: right;\">\n",
       "      <th></th>\n",
       "      <th>Year</th>\n",
       "      <th>Team</th>\n",
       "      <th>Player</th>\n",
       "      <th>Salary</th>\n",
       "      <th>Bonus</th>\n",
       "    </tr>\n",
       "  </thead>\n",
       "  <tbody>\n",
       "    <tr>\n",
       "      <th>45</th>\n",
       "      <td>2023</td>\n",
       "      <td>Seattle Storm</td>\n",
       "      <td>Jewell Loyd</td>\n",
       "      <td>234936</td>\n",
       "      <td>NaN</td>\n",
       "    </tr>\n",
       "    <tr>\n",
       "      <th>40</th>\n",
       "      <td>2023</td>\n",
       "      <td>Phoenix Mercury</td>\n",
       "      <td>Diana Taurasi</td>\n",
       "      <td>234936</td>\n",
       "      <td>NaN</td>\n",
       "    </tr>\n",
       "    <tr>\n",
       "      <th>10</th>\n",
       "      <td>2023</td>\n",
       "      <td>Dallas Wings</td>\n",
       "      <td>Arike Ogunbowale</td>\n",
       "      <td>234936</td>\n",
       "      <td>NaN</td>\n",
       "    </tr>\n",
       "    <tr>\n",
       "      <th>41</th>\n",
       "      <td>2023</td>\n",
       "      <td>Phoenix Mercury</td>\n",
       "      <td>Skylar Diggins-Smith</td>\n",
       "      <td>234350</td>\n",
       "      <td>NaN</td>\n",
       "    </tr>\n",
       "    <tr>\n",
       "      <th>90</th>\n",
       "      <td>2022</td>\n",
       "      <td>Phoenix Mercury</td>\n",
       "      <td>Diana Taurasi</td>\n",
       "      <td>228094</td>\n",
       "      <td>NaN</td>\n",
       "    </tr>\n",
       "    <tr>\n",
       "      <th>95</th>\n",
       "      <td>2022</td>\n",
       "      <td>Seattle Storm</td>\n",
       "      <td>Jewell Loyd</td>\n",
       "      <td>228094</td>\n",
       "      <td>NaN</td>\n",
       "    </tr>\n",
       "    <tr>\n",
       "      <th>96</th>\n",
       "      <td>2022</td>\n",
       "      <td>Seattle Storm</td>\n",
       "      <td>Breanna Stewart</td>\n",
       "      <td>228094</td>\n",
       "      <td>NaN</td>\n",
       "    </tr>\n",
       "    <tr>\n",
       "      <th>91</th>\n",
       "      <td>2022</td>\n",
       "      <td>Phoenix Mercury</td>\n",
       "      <td>Skylar Diggins-Smith</td>\n",
       "      <td>227900</td>\n",
       "      <td>NaN</td>\n",
       "    </tr>\n",
       "    <tr>\n",
       "      <th>92</th>\n",
       "      <td>2022</td>\n",
       "      <td>Phoenix Mercury</td>\n",
       "      <td>Brittney Griner</td>\n",
       "      <td>227900</td>\n",
       "      <td>NaN</td>\n",
       "    </tr>\n",
       "    <tr>\n",
       "      <th>11</th>\n",
       "      <td>2023</td>\n",
       "      <td>Dallas Wings</td>\n",
       "      <td>Natasha Howard</td>\n",
       "      <td>227900</td>\n",
       "      <td>NaN</td>\n",
       "    </tr>\n",
       "    <tr>\n",
       "      <th>141</th>\n",
       "      <td>2021</td>\n",
       "      <td>Phoenix Mercury</td>\n",
       "      <td>Brittney Griner</td>\n",
       "      <td>221450</td>\n",
       "      <td>NaN</td>\n",
       "    </tr>\n",
       "    <tr>\n",
       "      <th>85</th>\n",
       "      <td>2022</td>\n",
       "      <td>New York Liberty</td>\n",
       "      <td>Natasha Howard</td>\n",
       "      <td>221450</td>\n",
       "      <td>NaN</td>\n",
       "    </tr>\n",
       "    <tr>\n",
       "      <th>140</th>\n",
       "      <td>2021</td>\n",
       "      <td>Phoenix Mercury</td>\n",
       "      <td>Skylar Diggins-Smith</td>\n",
       "      <td>221450</td>\n",
       "      <td>NaN</td>\n",
       "    </tr>\n",
       "    <tr>\n",
       "      <th>125</th>\n",
       "      <td>2021</td>\n",
       "      <td>Las Vegas Aces</td>\n",
       "      <td>Liz Cambage</td>\n",
       "      <td>221450</td>\n",
       "      <td>NaN</td>\n",
       "    </tr>\n",
       "    <tr>\n",
       "      <th>142</th>\n",
       "      <td>2021</td>\n",
       "      <td>Phoenix Mercury</td>\n",
       "      <td>Diana Taurasi</td>\n",
       "      <td>221450</td>\n",
       "      <td>NaN</td>\n",
       "    </tr>\n",
       "    <tr>\n",
       "      <th>145</th>\n",
       "      <td>2021</td>\n",
       "      <td>Seattle Storm</td>\n",
       "      <td>Sue Bird</td>\n",
       "      <td>221450</td>\n",
       "      <td>NaN</td>\n",
       "    </tr>\n",
       "    <tr>\n",
       "      <th>195</th>\n",
       "      <td>2020</td>\n",
       "      <td>Seattle Storm</td>\n",
       "      <td>Sue Bird</td>\n",
       "      <td>215000</td>\n",
       "      <td>NaN</td>\n",
       "    </tr>\n",
       "    <tr>\n",
       "      <th>190</th>\n",
       "      <td>2020</td>\n",
       "      <td>Phoenix Mercury</td>\n",
       "      <td>Skylar Diggins-Smith</td>\n",
       "      <td>215000</td>\n",
       "      <td>NaN</td>\n",
       "    </tr>\n",
       "    <tr>\n",
       "      <th>50</th>\n",
       "      <td>2022</td>\n",
       "      <td>Atlanta Dream</td>\n",
       "      <td>Tiffany Hayes</td>\n",
       "      <td>215000</td>\n",
       "      <td>NaN</td>\n",
       "    </tr>\n",
       "    <tr>\n",
       "      <th>191</th>\n",
       "      <td>2020</td>\n",
       "      <td>Phoenix Mercury</td>\n",
       "      <td>Brittney Griner</td>\n",
       "      <td>215000</td>\n",
       "      <td>NaN</td>\n",
       "    </tr>\n",
       "  </tbody>\n",
       "</table>\n",
       "</div>"
      ],
      "text/plain": [
       "     Year              Team                Player  Salary Bonus\n",
       "45   2023     Seattle Storm           Jewell Loyd  234936   NaN\n",
       "40   2023   Phoenix Mercury         Diana Taurasi  234936   NaN\n",
       "10   2023      Dallas Wings      Arike Ogunbowale  234936   NaN\n",
       "41   2023   Phoenix Mercury  Skylar Diggins-Smith  234350   NaN\n",
       "90   2022   Phoenix Mercury         Diana Taurasi  228094   NaN\n",
       "95   2022     Seattle Storm           Jewell Loyd  228094   NaN\n",
       "96   2022     Seattle Storm       Breanna Stewart  228094   NaN\n",
       "91   2022   Phoenix Mercury  Skylar Diggins-Smith  227900   NaN\n",
       "92   2022   Phoenix Mercury       Brittney Griner  227900   NaN\n",
       "11   2023      Dallas Wings        Natasha Howard  227900   NaN\n",
       "141  2021   Phoenix Mercury       Brittney Griner  221450   NaN\n",
       "85   2022  New York Liberty        Natasha Howard  221450   NaN\n",
       "140  2021   Phoenix Mercury  Skylar Diggins-Smith  221450   NaN\n",
       "125  2021    Las Vegas Aces           Liz Cambage  221450   NaN\n",
       "142  2021   Phoenix Mercury         Diana Taurasi  221450   NaN\n",
       "145  2021     Seattle Storm              Sue Bird  221450   NaN\n",
       "195  2020     Seattle Storm              Sue Bird  215000   NaN\n",
       "190  2020   Phoenix Mercury  Skylar Diggins-Smith  215000   NaN\n",
       "50   2022     Atlanta Dream         Tiffany Hayes  215000   NaN\n",
       "191  2020   Phoenix Mercury       Brittney Griner  215000   NaN"
      ]
     },
     "execution_count": 71,
     "metadata": {},
     "output_type": "execute_result"
    }
   ],
   "source": [
    "best_paid_wnba = wnba_salaries.sort_values(by = \"Salary\", ascending = False)[:20]\n",
    "best_paid_wnba"
   ]
  },
  {
   "cell_type": "code",
   "execution_count": 72,
   "id": "b43210ef",
   "metadata": {},
   "outputs": [
    {
     "data": {
      "text/html": [
       "<div>\n",
       "<style scoped>\n",
       "    .dataframe tbody tr th:only-of-type {\n",
       "        vertical-align: middle;\n",
       "    }\n",
       "\n",
       "    .dataframe tbody tr th {\n",
       "        vertical-align: top;\n",
       "    }\n",
       "\n",
       "    .dataframe thead th {\n",
       "        text-align: right;\n",
       "    }\n",
       "</style>\n",
       "<table border=\"1\" class=\"dataframe\">\n",
       "  <thead>\n",
       "    <tr style=\"text-align: right;\">\n",
       "      <th></th>\n",
       "      <th>Year</th>\n",
       "      <th>Team</th>\n",
       "      <th>Player</th>\n",
       "      <th>Salary</th>\n",
       "      <th>Bonus</th>\n",
       "    </tr>\n",
       "  </thead>\n",
       "  <tbody>\n",
       "    <tr>\n",
       "      <th>45</th>\n",
       "      <td>2023</td>\n",
       "      <td>Seattle Storm</td>\n",
       "      <td>Jewell Loyd</td>\n",
       "      <td>234936</td>\n",
       "      <td>NaN</td>\n",
       "    </tr>\n",
       "    <tr>\n",
       "      <th>40</th>\n",
       "      <td>2023</td>\n",
       "      <td>Phoenix Mercury</td>\n",
       "      <td>Diana Taurasi</td>\n",
       "      <td>234936</td>\n",
       "      <td>NaN</td>\n",
       "    </tr>\n",
       "    <tr>\n",
       "      <th>10</th>\n",
       "      <td>2023</td>\n",
       "      <td>Dallas Wings</td>\n",
       "      <td>Arike Ogunbowale</td>\n",
       "      <td>234936</td>\n",
       "      <td>NaN</td>\n",
       "    </tr>\n",
       "    <tr>\n",
       "      <th>41</th>\n",
       "      <td>2023</td>\n",
       "      <td>Phoenix Mercury</td>\n",
       "      <td>Skylar Diggins-Smith</td>\n",
       "      <td>234350</td>\n",
       "      <td>NaN</td>\n",
       "    </tr>\n",
       "    <tr>\n",
       "      <th>96</th>\n",
       "      <td>2022</td>\n",
       "      <td>Seattle Storm</td>\n",
       "      <td>Breanna Stewart</td>\n",
       "      <td>228094</td>\n",
       "      <td>NaN</td>\n",
       "    </tr>\n",
       "    <tr>\n",
       "      <th>92</th>\n",
       "      <td>2022</td>\n",
       "      <td>Phoenix Mercury</td>\n",
       "      <td>Brittney Griner</td>\n",
       "      <td>227900</td>\n",
       "      <td>NaN</td>\n",
       "    </tr>\n",
       "    <tr>\n",
       "      <th>11</th>\n",
       "      <td>2023</td>\n",
       "      <td>Dallas Wings</td>\n",
       "      <td>Natasha Howard</td>\n",
       "      <td>227900</td>\n",
       "      <td>NaN</td>\n",
       "    </tr>\n",
       "    <tr>\n",
       "      <th>125</th>\n",
       "      <td>2021</td>\n",
       "      <td>Las Vegas Aces</td>\n",
       "      <td>Liz Cambage</td>\n",
       "      <td>221450</td>\n",
       "      <td>NaN</td>\n",
       "    </tr>\n",
       "    <tr>\n",
       "      <th>145</th>\n",
       "      <td>2021</td>\n",
       "      <td>Seattle Storm</td>\n",
       "      <td>Sue Bird</td>\n",
       "      <td>221450</td>\n",
       "      <td>NaN</td>\n",
       "    </tr>\n",
       "    <tr>\n",
       "      <th>50</th>\n",
       "      <td>2022</td>\n",
       "      <td>Atlanta Dream</td>\n",
       "      <td>Tiffany Hayes</td>\n",
       "      <td>215000</td>\n",
       "      <td>NaN</td>\n",
       "    </tr>\n",
       "  </tbody>\n",
       "</table>\n",
       "</div>"
      ],
      "text/plain": [
       "     Year             Team                Player  Salary Bonus\n",
       "45   2023    Seattle Storm           Jewell Loyd  234936   NaN\n",
       "40   2023  Phoenix Mercury         Diana Taurasi  234936   NaN\n",
       "10   2023     Dallas Wings      Arike Ogunbowale  234936   NaN\n",
       "41   2023  Phoenix Mercury  Skylar Diggins-Smith  234350   NaN\n",
       "96   2022    Seattle Storm       Breanna Stewart  228094   NaN\n",
       "92   2022  Phoenix Mercury       Brittney Griner  227900   NaN\n",
       "11   2023     Dallas Wings        Natasha Howard  227900   NaN\n",
       "125  2021   Las Vegas Aces           Liz Cambage  221450   NaN\n",
       "145  2021    Seattle Storm              Sue Bird  221450   NaN\n",
       "50   2022    Atlanta Dream         Tiffany Hayes  215000   NaN"
      ]
     },
     "metadata": {},
     "output_type": "display_data"
    }
   ],
   "source": [
    "wnba_top_ten = best_paid_wnba.drop_duplicates([\"Player\"])\n",
    "display(wnba_top_ten)"
   ]
  },
  {
   "cell_type": "code",
   "execution_count": 73,
   "id": "ff55a0a1",
   "metadata": {},
   "outputs": [],
   "source": [
    "wnba_x_axis = np.arange(0, len(wnba_top_ten[\"Player\"]))"
   ]
  },
  {
   "cell_type": "code",
   "execution_count": 74,
   "id": "65a7b011",
   "metadata": {},
   "outputs": [],
   "source": [
    "wnba_player = wnba_top_ten[\"Player\"]"
   ]
  },
  {
   "cell_type": "code",
   "execution_count": 75,
   "id": "4c7ae548",
   "metadata": {},
   "outputs": [],
   "source": [
    "wnba_salary = wnba_top_ten['Salary']"
   ]
  },
  {
   "cell_type": "code",
   "execution_count": 76,
   "id": "608d3674",
   "metadata": {},
   "outputs": [
    {
     "data": {
      "image/png": "[encoded data removed]",
      "text/plain": [
       "<Figure size 1000x600 with 1 Axes>"
      ]
     },
     "metadata": {},
     "output_type": "display_data"
    }
   ],
   "source": [
    "plt.figure(figsize=(10,6))\n",
    "plt.bar(wnba_x_axis, wnba_salary, facecolor = \"orange\")\n",
    "plt.title(\"Top Ten Best Paid WNBA Players\")\n",
    "plt.xlabel(\"Player\")\n",
    "plt.xticks(wnba_x_axis,wnba_player,rotation=45)\n",
    "plt.ylim(210000,236000)\n",
    "plt.ylabel(\"Salary ($)\")\n",
    "plt.tight_layout()\n",
    "\n",
    "plt.savefig(\"graph_outputs/TopTen_WNBA.png\")\n",
    "plt.show()"
   ]
  },
  {
   "cell_type": "code",
   "execution_count": 77,
   "id": "ddca62c0",
   "metadata": {},
   "outputs": [
    {
     "data": {
      "text/html": [
       "<div>\n",
       "<style scoped>\n",
       "    .dataframe tbody tr th:only-of-type {\n",
       "        vertical-align: middle;\n",
       "    }\n",
       "\n",
       "    .dataframe tbody tr th {\n",
       "        vertical-align: top;\n",
       "    }\n",
       "\n",
       "    .dataframe thead th {\n",
       "        text-align: right;\n",
       "    }\n",
       "</style>\n",
       "<table border=\"1\" class=\"dataframe\">\n",
       "  <thead>\n",
       "    <tr style=\"text-align: right;\">\n",
       "      <th></th>\n",
       "      <th>Year</th>\n",
       "      <th>Salary</th>\n",
       "    </tr>\n",
       "  </thead>\n",
       "  <tbody>\n",
       "    <tr>\n",
       "      <th>count</th>\n",
       "      <td>250</td>\n",
       "      <td>250</td>\n",
       "    </tr>\n",
       "    <tr>\n",
       "      <th>mean</th>\n",
       "      <td>2021</td>\n",
       "      <td>149195</td>\n",
       "    </tr>\n",
       "    <tr>\n",
       "      <th>std</th>\n",
       "      <td>1</td>\n",
       "      <td>43948</td>\n",
       "    </tr>\n",
       "    <tr>\n",
       "      <th>min</th>\n",
       "      <td>2019</td>\n",
       "      <td>64538</td>\n",
       "    </tr>\n",
       "    <tr>\n",
       "      <th>25%</th>\n",
       "      <td>2020</td>\n",
       "      <td>115000</td>\n",
       "    </tr>\n",
       "    <tr>\n",
       "      <th>50%</th>\n",
       "      <td>2021</td>\n",
       "      <td>145000</td>\n",
       "    </tr>\n",
       "    <tr>\n",
       "      <th>75%</th>\n",
       "      <td>2022</td>\n",
       "      <td>190375</td>\n",
       "    </tr>\n",
       "    <tr>\n",
       "      <th>max</th>\n",
       "      <td>2023</td>\n",
       "      <td>234936</td>\n",
       "    </tr>\n",
       "  </tbody>\n",
       "</table>\n",
       "</div>"
      ],
      "text/plain": [
       "       Year  Salary\n",
       "count   250     250\n",
       "mean   2021  149195\n",
       "std       1   43948\n",
       "min    2019   64538\n",
       "25%    2020  115000\n",
       "50%    2021  145000\n",
       "75%    2022  190375\n",
       "max    2023  234936"
      ]
     },
     "execution_count": 77,
     "metadata": {},
     "output_type": "execute_result"
    }
   ],
   "source": [
    "df2 = wnba_salaries.describe()\n",
    "df2"
   ]
  },
  {
   "cell_type": "code",
   "execution_count": 78,
   "id": "28ffe5db",
   "metadata": {},
   "outputs": [],
   "source": [
    "df3 = df2[\"Salary\"]"
   ]
  },
  {
   "cell_type": "code",
   "execution_count": 80,
   "id": "82beb100",
   "metadata": {},
   "outputs": [
    {
     "data": {
      "image/png": "[encoded data removed]",
      "text/plain": [
       "<Figure size 640x480 with 1 Axes>"
      ]
     },
     "metadata": {},
     "output_type": "display_data"
    }
   ],
   "source": [
    "#df2['Salary'].plot(kind = \"bar\", color = \"orange\")\n",
    "df3.plot(kind = \"bar\", color = \"orange\")\n",
    "plt.title(\"WNBA Summary\")\n",
    "plt.xlabel(\"Summary Stats\")\n",
    "#plt.xticks(wnba_x_axis,wnba_player,rotation=45)\n",
    "#plt.ylim(210000,236000)\n",
    "plt.ylabel(\"Salary ($)\")\n",
    "plt.tight_layout()\n",
    "#fig, ax = plt.subplots()\n",
    "#bar_container = ax.par(wnba_salaries.describe(),df2[\"Salary\"])\n",
    "#ax.bar_label(bar_container, fmt='{:, .0f}')\n",
    "#for i, v in enumerate(df2[\"Salary\"]):\n",
    "    #ax.text(i,v + 10000, str(v), ha=\"center\", va=\"bottom\")\n",
    "\n",
    "plt.savefig(\"graph_outputs/WNBA_summary.png\")\n",
    "plt.show()"
   ]
  },
  {
   "cell_type": "markdown",
   "id": "35d887f6",
   "metadata": {},
   "source": [
    "## NBA and WNB Graphs"
   ]
  },
  {
   "cell_type": "code",
   "execution_count": 81,
   "id": "4f205ad6",
   "metadata": {},
   "outputs": [
    {
     "data": {
      "text/html": [
       "<div>\n",
       "<style scoped>\n",
       "    .dataframe tbody tr th:only-of-type {\n",
       "        vertical-align: middle;\n",
       "    }\n",
       "\n",
       "    .dataframe tbody tr th {\n",
       "        vertical-align: top;\n",
       "    }\n",
       "\n",
       "    .dataframe thead th {\n",
       "        text-align: right;\n",
       "    }\n",
       "</style>\n",
       "<table border=\"1\" class=\"dataframe\">\n",
       "  <thead>\n",
       "    <tr style=\"text-align: right;\">\n",
       "      <th></th>\n",
       "      <th>nba</th>\n",
       "      <th>wnba</th>\n",
       "    </tr>\n",
       "  </thead>\n",
       "  <tbody>\n",
       "    <tr>\n",
       "      <th>count</th>\n",
       "      <td>250</td>\n",
       "      <td>250</td>\n",
       "    </tr>\n",
       "    <tr>\n",
       "      <th>mean</th>\n",
       "      <td>20410248</td>\n",
       "      <td>149195</td>\n",
       "    </tr>\n",
       "    <tr>\n",
       "      <th>std</th>\n",
       "      <td>11161845</td>\n",
       "      <td>43948</td>\n",
       "    </tr>\n",
       "    <tr>\n",
       "      <th>min</th>\n",
       "      <td>2964840</td>\n",
       "      <td>64538</td>\n",
       "    </tr>\n",
       "    <tr>\n",
       "      <th>25%</th>\n",
       "      <td>11080125</td>\n",
       "      <td>115000</td>\n",
       "    </tr>\n",
       "    <tr>\n",
       "      <th>50%</th>\n",
       "      <td>18000000</td>\n",
       "      <td>145000</td>\n",
       "    </tr>\n",
       "    <tr>\n",
       "      <th>75%</th>\n",
       "      <td>27450000</td>\n",
       "      <td>190375</td>\n",
       "    </tr>\n",
       "    <tr>\n",
       "      <th>max</th>\n",
       "      <td>51915615</td>\n",
       "      <td>234936</td>\n",
       "    </tr>\n",
       "  </tbody>\n",
       "</table>\n",
       "</div>"
      ],
      "text/plain": [
       "           nba   wnba\n",
       "count      250    250\n",
       "mean  20410248 149195\n",
       "std   11161845  43948\n",
       "min    2964840  64538\n",
       "25%   11080125 115000\n",
       "50%   18000000 145000\n",
       "75%   27450000 190375\n",
       "max   51915615 234936"
      ]
     },
     "execution_count": 81,
     "metadata": {},
     "output_type": "execute_result"
    }
   ],
   "source": [
    "nba_vs_wnba = pd.DataFrame({\"nba\": df['Salary'],\n",
    "                           \"wnba\": df2['Salary']\n",
    "                        })\n",
    "nba_vs_wnba"
   ]
  },
  {
   "cell_type": "code",
   "execution_count": 83,
   "id": "b3da925d",
   "metadata": {},
   "outputs": [
    {
     "data": {
      "image/png": "[encoded data removed]",
      "text/plain": [
       "<Figure size 640x480 with 1 Axes>"
      ]
     },
     "metadata": {},
     "output_type": "display_data"
    }
   ],
   "source": [
    "nba_vs_wnba.plot(kind = \"bar\")\n",
    "plt.title(\"NBA vs WNBA Summary Salary Stats\")\n",
    "plt.xlabel(\"Summary Stats\")\n",
    "plt.ylabel(\"Salary ($)\")\n",
    "plt.savefig(\"graph_outputs/NBAvsWNBA1.png\")"
   ]
  },
  {
   "cell_type": "code",
   "execution_count": null,
   "id": "0db48e55",
   "metadata": {},
   "outputs": [],
   "source": []
  }
 ],
 "metadata": {
  "kernelspec": {
   "display_name": "Python 3 (ipykernel)",
   "language": "python",
   "name": "python3"
  },
  "language_info": {
   "codemirror_mode": {
    "name": "ipython",
    "version": 3
   },
   "file_extension": ".py",
   "mimetype": "text/x-python",
   "name": "python",
   "nbconvert_exporter": "python",
   "pygments_lexer": "ipython3",
   "version": "3.11.4"
  }
 },
 "nbformat": 4,
 "nbformat_minor": 5
}
