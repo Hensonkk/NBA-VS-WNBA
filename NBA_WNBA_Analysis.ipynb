{
 "cells": [
  {
   "cell_type": "code",
   "execution_count": 1,
   "id": "7de3c387",
   "metadata": {},
   "outputs": [],
   "source": [
    "# Dependencies and Setup\n",
    "import matplotlib.pyplot as plt\n",
    "import pandas as pd\n",
    "import numpy as np\n",
    "import scipy.stats as st"
   ]
  },
  {
   "cell_type": "code",
   "execution_count": 2,
   "id": "f4b6c2bd",
   "metadata": {},
   "outputs": [],
   "source": [
    "# Study data files\n",
    "nba_salaries_path = \"NBA_Salaries.csv\"\n",
    "wnba_salaries_path = \"WNBA_salaries.csv\""
   ]
  },
  {
   "cell_type": "code",
   "execution_count": 3,
   "id": "b1a9f10c",
   "metadata": {},
   "outputs": [],
   "source": [
    "# Read the mouse data and the study results\n",
    "nba_salaries = pd.read_csv(nba_salaries_path)\n",
    "wnba_salaries = pd.read_csv(wnba_salaries_path)"
   ]
  },
  {
   "cell_type": "code",
   "execution_count": 4,
   "id": "31914048",
   "metadata": {},
   "outputs": [],
   "source": [
    "nba_salaries.columns"
   ]
  },
  {
   "cell_type": "code",
   "execution_count": 5,
   "id": "b2b50b83",
   "metadata": {},
   "outputs": [],
   "source": [
    "nba_salaries[\"Salary\"] = nba_salaries[\"Salary\"].str.replace(\"$\",\"\")"
   ]
  },
  {
   "cell_type": "code",
   "execution_count": 6,
   "id": "964e9628",
   "metadata": {},
   "outputs": [],
   "source": [
    "nba_salaries.dtypes"
   ]
  },
  {
   "cell_type": "code",
   "execution_count": 7,
   "id": "3454a367",
   "metadata": {},
   "outputs": [],
   "source": [
    "nba_salaries[\"Salary\"] = nba_salaries[\"Salary\"].str.replace(\",\",\"\")"
   ]
  },
  {
   "cell_type": "code",
   "execution_count": 8,
   "id": "82f4ba5f",
   "metadata": {},
   "outputs": [],
   "source": [
    "nba_salaries[\"Salary\"] = nba_salaries[\"Salary\"].astype(float)"
   ]
  },
  {
   "cell_type": "code",
   "execution_count": 9,
   "id": "11798d86",
   "metadata": {},
   "outputs": [],
   "source": [
    "nba_salaries.dtypes"
   ]
  },
  {
   "cell_type": "code",
   "execution_count": 10,
   "id": "02abce75",
   "metadata": {},
   "outputs": [],
   "source": [
    "nba_complete = nba_salaries.copy(deep=True)"
   ]
  },
  {
   "cell_type": "code",
   "execution_count": 11,
   "id": "95c15341",
   "metadata": {},
   "outputs": [],
   "source": [
    "nba_complete.head()"
   ]
  },
  {
   "cell_type": "code",
   "execution_count": 12,
   "id": "7bd5f26b",
   "metadata": {},
   "outputs": [],
   "source": [
    "top_eighteen_best_paid_nba = nba_salaries.sort_values(by = \"Salary\", ascending = False)[:18]\n",
    "#top_eighteen_best_paid_nba[\"Salary\"] = top_eighteen_best_paid_nba[\"Salary\"]/1000000\n",
    "top_eighteen_best_paid_nba"
   ]
  },
  {
   "cell_type": "code",
   "execution_count": 13,
   "id": "e941780f",
   "metadata": {},
   "outputs": [],
   "source": [
    "top_ten_best_paid_nba = top_eighteen_best_paid_nba.drop_duplicates([\"Player\"])"
   ]
  },
  {
   "cell_type": "code",
   "execution_count": 14,
   "id": "8624191d",
   "metadata": {},
   "outputs": [],
   "source": [
    "x_axis = np.arange(0, len(top_ten_best_paid_nba[\"Player\"]))"
   ]
  },
  {
   "cell_type": "code",
   "execution_count": 15,
   "id": "03d02107",
   "metadata": {},
   "outputs": [],
   "source": [
    "x_axis"
   ]
  },
  {
   "cell_type": "code",
   "execution_count": 16,
   "id": "8d8e5014",
   "metadata": {},
   "outputs": [],
   "source": [
    "Player = top_ten_best_paid_nba['Player']\n",
    "Player"
   ]
  },
  {
   "cell_type": "code",
   "execution_count": 17,
   "id": "d00981f1",
   "metadata": {},
   "outputs": [],
   "source": [
    "Salary = top_ten_best_paid_nba['Salary']"
   ]
  },
  {
   "cell_type": "markdown",
   "id": "b7a81385",
   "metadata": {},
   "source": [
    "## NBA Summary Stats"
   ]
  },
  {
   "cell_type": "code",
   "execution_count": 18,
   "id": "e443d3f1",
   "metadata": {},
   "outputs": [],
   "source": [
    "mean = nba_salaries.groupby('Year')['Salary'].mean()\n",
    "mean"
   ]
  },
  {
   "cell_type": "code",
   "execution_count": 19,
   "id": "d214893d",
   "metadata": {},
   "outputs": [],
   "source": [
    "median = nba_salaries.groupby('Year')['Salary'].median()\n",
    "median"
   ]
  },
  {
   "cell_type": "code",
   "execution_count": 20,
   "id": "12ce6d3e",
   "metadata": {},
   "outputs": [],
   "source": [
    "variance = nba_salaries.groupby('Year')['Salary'].var()\n",
    "pd.options.display.float_format = '{:.0f}'.format\n",
    "variance"
   ]
  },
  {
   "cell_type": "code",
   "execution_count": 21,
   "id": "55cc2ccc",
   "metadata": {},
   "outputs": [],
   "source": [
    "std = nba_salaries.groupby('Year')['Salary'].std()\n",
    "pd.options.display.float_format = '{:.0f}'.format\n",
    "std"
   ]
  },
  {
   "cell_type": "code",
   "execution_count": 22,
   "id": "8052b374",
   "metadata": {},
   "outputs": [],
   "source": [
    "sem = nba_salaries.groupby('Year')['Salary'].sem()\n",
    "sem"
   ]
  },
  {
   "cell_type": "code",
   "execution_count": 23,
   "id": "33b26ad0",
   "metadata": {},
   "outputs": [],
   "source": [
    "summary_stats = nba_salaries.groupby('Year')['Salary'].agg(['mean', 'median', 'var', 'std','sem'])\n",
    "display(summary_stats)"
   ]
  },
  {
   "cell_type": "markdown",
   "id": "720dbc52",
   "metadata": {},
   "source": [
    "## NBA Graphs"
   ]
  },
  {
   "cell_type": "code",
   "execution_count": 24,
   "id": "028934ef",
   "metadata": {},
   "outputs": [],
   "source": [
    "df = nba_salaries.describe()"
   ]
  },
  {
   "cell_type": "code",
   "execution_count": 25,
   "id": "8a30db38",
   "metadata": {},
   "outputs": [],
   "source": [
    "df"
   ]
  },
  {
   "cell_type": "code",
   "execution_count": 26,
   "id": "ba59eabe",
   "metadata": {},
   "outputs": [],
   "source": [
    "# df['Salary'].plot(kind = \"bar\", color = \"blue\")\n",
    "\n",
    "# plt.title(\"NBA Summary\")\n",
    "# plt.xlabel(\"Summary Stats\")\n",
    "# #plt.xticks(wnba_x_axis,wnba_player,rotation=45)\n",
    "# #plt.ylim(210000,236000)\n",
    "# plt.ylabel(\"Salary ($)\")\n",
    "# plt.tight_layout()\n",
    "# plt.ticklabel_format(style='plain', useOffset=False, axis='y')\n",
    "# plt.savefig(\"graph_outputs/NBA_summary.png\")\n",
    "# plt.show()"
   ]
  },
  {
   "cell_type": "code",
   "execution_count": 27,
   "id": "0edd0658",
   "metadata": {},
   "outputs": [],
   "source": [
    "nba_salaries['Salary']=nba_salaries['Salary']/1000000\n",
    "nba_salaries"
   ]
  },
  {
   "cell_type": "code",
   "execution_count": 28,
   "id": "a04bbba7",
   "metadata": {},
   "outputs": [],
   "source": [
    "\n",
    "plt.figure(figsize=(12,6))\n",
    "nba_salaries.boxplot(by ='Year', column=['Salary'], grid = False)\n",
    "plt.ylabel(\"Salary (Million $)\")\n",
    "\n",
    "plt.ticklabel_format(style='plain', useOffset=False, axis='y')\n",
    "\n",
    "plt.savefig(\"graph_outputs/NBA_Salary_2019_2023.png\")\n",
    "plt.show()"
   ]
  },
  {
   "cell_type": "code",
   "execution_count": 29,
   "id": "6d8e5ed8",
   "metadata": {},
   "outputs": [],
   "source": [
    "plt.figure(figsize=(12,6))\n",
    "nba_salaries.boxplot(by ='Team', column=['Salary'], grid = False)\n",
    "plt.xlabel(\"Team\")\n",
    "plt.ylabel(\"Salary (Million $)\")\n",
    "plt.xticks(rotation='vertical')\n",
    "plt.ticklabel_format(style='plain', useOffset=False, axis='y')\n",
    "\n",
    "#plt.tight_layout()\n",
    "plt.show()\n"
   ]
  },
  {
   "cell_type": "code",
   "execution_count": 30,
   "id": "bca1a818",
   "metadata": {},
   "outputs": [],
   "source": [
    "nba_2023 = nba_salaries[nba_salaries['Year']== 2023]\n",
    "nba_2023.head()"
   ]
  },
  {
   "cell_type": "code",
   "execution_count": 31,
   "id": "5ded33a8",
   "metadata": {},
   "outputs": [],
   "source": [
    "#nba_salaries['Salary'] = nba_2023['Salary']/1000000"
   ]
  },
  {
   "cell_type": "code",
   "execution_count": 32,
   "id": "f8737d50",
   "metadata": {},
   "outputs": [],
   "source": [
    "\n",
    "\n",
    "nba_2023.boxplot(by ='Team', column=['Salary'], grid = False,\n",
    "    flierprops = dict(marker='o', markerfacecolor='blue', markersize=7,\n",
    "                  linestyle='none', markeredgecolor='black'))\n",
    "plt.title('2023 NBA Top 5 Team Salary')\n",
    "plt.xlabel('Teams')\n",
    "plt.xticks(rotation='vertical')\n",
    "plt.ylabel('Salary ($ Million)')\n",
    "plt.ticklabel_format(style='plain', useOffset=False, axis='y')\n",
    "plt.tight_layout()\n",
    "\n",
    "plt.savefig(\"graph_outputs/NBA_Top5_Teams_Salary_2023.png\")\n",
    "plt.show()"
   ]
  },
  {
   "cell_type": "code",
   "execution_count": 33,
   "id": "a2103d2d",
   "metadata": {},
   "outputs": [],
   "source": [
    "nba_salaries"
   ]
  },
  {
   "cell_type": "code",
   "execution_count": null,
   "id": "290b973a",
   "metadata": {},
   "outputs": [],
   "source": []
  },
  {
   "cell_type": "code",
   "execution_count": 34,
   "id": "aa417a1d",
   "metadata": {},
   "outputs": [],
   "source": [
    "nba_2019 = nba_complete[nba_salaries['Year']== 2019]\n",
    "nba_2019.head()"
   ]
  },
  {
   "cell_type": "code",
   "execution_count": 35,
   "id": "43847865",
   "metadata": {},
   "outputs": [],
   "source": [
    "nba_2019['Salary']= nba_2019['Salary']/1000000\n",
    "nba_2019.head()"
   ]
  },
  {
   "cell_type": "code",
   "execution_count": 36,
   "id": "ce5c38c2",
   "metadata": {},
   "outputs": [],
   "source": [
    "nba_2019.boxplot(by ='Team', column=['Salary'], grid = False)\n",
    "    #flierprops = dict(marker='o', markerfacecolor='orange', markersize=7,\n",
    "                  #linestyle='none', markeredgecolor='black'))\n",
    "plt.title('2019 NBA Top 5 Team Salary')\n",
    "plt.xlabel('Teams')\n",
    "plt.xticks(rotation='vertical')\n",
    "plt.ylabel('Salary (Million $)')\n",
    "plt.ticklabel_format(style='plain', useOffset=False, axis='y')\n",
    "plt.tight_layout()\n",
    "\n",
    "plt.savefig(\"graph_outputs/NBA_Top5_Teams_Salary_2019.png\")\n",
    "plt.show()"
   ]
  },
  {
   "cell_type": "code",
   "execution_count": 37,
   "id": "906acdaf",
   "metadata": {},
   "outputs": [],
   "source": [
    "list(Salary)"
   ]
  },
  {
   "cell_type": "code",
   "execution_count": 38,
   "id": "7994999b",
   "metadata": {},
   "outputs": [],
   "source": [
    "#top_ten_best_paid_nba = nba_salaries.sort_values(by = \"Salary\", ascending = False)[:10]\n",
    "\n",
    "plt.figure(figsize=(10,6))\n",
    "bars = plt.bar(x_axis, Salary /1e6, facecolor = \"blue\")\n",
    "plt.title(\"Top Ten Best Paid NBA Players\")\n",
    "plt.xlabel(\"Player\")\n",
    "plt.xticks(x_axis,Player,rotation=45)\n",
    "plt.ylim(35,53)\n",
    "plt.ylabel(\"Salary (Million $)\")\n",
    "\n",
    "# print(bars)\n",
    "for b in bars:\n",
    "#     print(b.get_height())\n",
    "    #plt.text(x = 0.1 + b.get_x(), y = 100000 + b.get_height()/1000000, s = str(round(b.get_height(),2)))\n",
    "    plt.text(x = b.get_x(),y=0.3 + b.get_height(), s = str(round(b.get_height(),2)))\n",
    "\n",
    "plt.tight_layout()\n",
    "plt.ticklabel_format(style='plain', useOffset=False, axis='y')\n",
    "\n",
    "plt.savefig(\"graph_outputs/TopTen_NBA.png\")\n",
    "plt.show()"
   ]
  },
  {
   "cell_type": "code",
   "execution_count": 39,
   "id": "5ac6c1b5",
   "metadata": {},
   "outputs": [],
   "source": [
    "nba_salaries.columns"
   ]
  },
  {
   "cell_type": "code",
   "execution_count": null,
   "id": "1a03d02a",
   "metadata": {},
   "outputs": [],
   "source": []
  },
  {
   "cell_type": "code",
   "execution_count": null,
   "id": "800e7517",
   "metadata": {},
   "outputs": [],
   "source": []
  },
  {
   "cell_type": "code",
   "execution_count": null,
   "id": "29b3edb8",
   "metadata": {},
   "outputs": [],
   "source": []
  },
  {
   "cell_type": "code",
   "execution_count": null,
   "id": "6216bdfa",
   "metadata": {},
   "outputs": [],
   "source": []
  },
  {
   "cell_type": "code",
   "execution_count": null,
   "id": "a4e7915d",
   "metadata": {},
   "outputs": [],
   "source": []
  },
  {
   "cell_type": "markdown",
   "id": "71ae253e",
   "metadata": {},
   "source": [
    "## WNBA Summary Stats"
   ]
  },
  {
   "cell_type": "code",
   "execution_count": 40,
   "id": "f03f7dc6",
   "metadata": {},
   "outputs": [],
   "source": [
    "wnba_salaries.dtypes"
   ]
  },
  {
   "cell_type": "code",
   "execution_count": 41,
   "id": "7757c7ca",
   "metadata": {},
   "outputs": [],
   "source": [
    "wnba_salaries.columns"
   ]
  },
  {
   "cell_type": "code",
   "execution_count": 42,
   "id": "0ebd0b84",
   "metadata": {},
   "outputs": [],
   "source": [
    "wnba_salaries = wnba_salaries.rename(columns=str.strip)"
   ]
  },
  {
   "cell_type": "code",
   "execution_count": 43,
   "id": "1b75dd33",
   "metadata": {},
   "outputs": [],
   "source": [
    "wnba_salaries"
   ]
  },
  {
   "cell_type": "code",
   "execution_count": 44,
   "id": "5eef1c20",
   "metadata": {},
   "outputs": [],
   "source": [
    "wnba_salaries.dtypes"
   ]
  },
  {
   "cell_type": "code",
   "execution_count": 45,
   "id": "28a4f19c",
   "metadata": {},
   "outputs": [],
   "source": [
    "#wnba_salaries[\"Salary\"] = wnba_salaries[\" Salary \"].str.replace(\",\",\"\")"
   ]
  },
  {
   "cell_type": "code",
   "execution_count": 46,
   "id": "c49eadf3",
   "metadata": {},
   "outputs": [],
   "source": [
    "wnba_salaries[\"Salary\"] = wnba_salaries[\"Salary\"].str.replace(\"$\",\"\")"
   ]
  },
  {
   "cell_type": "code",
   "execution_count": 47,
   "id": "717ab25e",
   "metadata": {},
   "outputs": [],
   "source": [
    "wnba_salaries[\"Salary\"] = wnba_salaries[\"Salary\"].str.replace(\",\",\"\")"
   ]
  },
  {
   "cell_type": "code",
   "execution_count": 48,
   "id": "663f39bd",
   "metadata": {},
   "outputs": [],
   "source": [
    "#wnba_salaries.dtypes"
   ]
  },
  {
   "cell_type": "code",
   "execution_count": 49,
   "id": "ef4dffc5",
   "metadata": {},
   "outputs": [],
   "source": [
    "wnba_salaries[\"Salary\"] = wnba_salaries[\"Salary\"].astype(float)"
   ]
  },
  {
   "cell_type": "code",
   "execution_count": 50,
   "id": "44d93f04",
   "metadata": {},
   "outputs": [],
   "source": [
    "wnba_salaries.dtypes"
   ]
  },
  {
   "cell_type": "code",
   "execution_count": 51,
   "id": "33aea996",
   "metadata": {},
   "outputs": [],
   "source": [
    "wnba_salaries.sample(10)"
   ]
  },
  {
   "cell_type": "code",
   "execution_count": 52,
   "id": "72ec6a26",
   "metadata": {},
   "outputs": [],
   "source": [
    "mean = wnba_salaries.groupby('Year')['Salary'].mean()\n",
    "mean"
   ]
  },
  {
   "cell_type": "code",
   "execution_count": 53,
   "id": "73ff16bc",
   "metadata": {},
   "outputs": [],
   "source": [
    "median = wnba_salaries.groupby('Year')['Salary'].median()\n",
    "median"
   ]
  },
  {
   "cell_type": "code",
   "execution_count": 54,
   "id": "c98ffef4",
   "metadata": {},
   "outputs": [],
   "source": [
    "variance = wnba_salaries.groupby('Year')['Salary'].var()\n",
    "variance"
   ]
  },
  {
   "cell_type": "code",
   "execution_count": 55,
   "id": "0c21f062",
   "metadata": {},
   "outputs": [],
   "source": [
    "std = wnba_salaries.groupby('Year')['Salary'].std()\n",
    "std"
   ]
  },
  {
   "cell_type": "code",
   "execution_count": 56,
   "id": "f13ff239",
   "metadata": {},
   "outputs": [],
   "source": [
    "sem = wnba_salaries.groupby('Year')['Salary'].sem()\n",
    "sem"
   ]
  },
  {
   "cell_type": "code",
   "execution_count": 57,
   "id": "b389cd36",
   "metadata": {},
   "outputs": [],
   "source": [
    "wnba_summary_stats = wnba_salaries.groupby('Year')['Salary'].agg(['mean', 'median', 'var', 'std','sem'])\n",
    "wnba_summary_stats"
   ]
  },
  {
   "cell_type": "markdown",
   "id": "c572d268",
   "metadata": {},
   "source": [
    "## WNBA Graphs"
   ]
  },
  {
   "cell_type": "code",
   "execution_count": 58,
   "id": "c1899c61",
   "metadata": {},
   "outputs": [],
   "source": [
    "wnba_salaries.boxplot(by ='Year', column=['Salary'], grid = False)\n",
    "plt.ylabel('Salary ($)')\n",
    "\n",
    "plt.savefig(\"graph_outputs/WNBA_Salary_2019_2013.png\")\n",
    "plt.show()"
   ]
  },
  {
   "cell_type": "code",
   "execution_count": 59,
   "id": "1677d849",
   "metadata": {},
   "outputs": [],
   "source": [
    "wnba_salaries.boxplot(by ='Team', column=['Salary'], grid = False)\n",
    "plt.xticks(rotation='vertical')\n",
    "plt.show()"
   ]
  },
  {
   "cell_type": "code",
   "execution_count": 60,
   "id": "98a5cf0b",
   "metadata": {},
   "outputs": [],
   "source": [
    "wnba_2023 = wnba_salaries[wnba_salaries['Year']== 2023]\n",
    "wnba_2023.head()"
   ]
  },
  {
   "cell_type": "code",
   "execution_count": 61,
   "id": "08ddc2ec",
   "metadata": {},
   "outputs": [],
   "source": [
    "wnba_2023.boxplot(by ='Team', column=['Salary'], grid = False,\n",
    "    flierprops = dict(marker='D', markerfacecolor='orange', markersize=7,\n",
    "                  linestyle='none', markeredgecolor='black'))\n",
    "plt.title('2023 WNBA Top 5 Team Salary')\n",
    "plt.xlabel('Teams')\n",
    "plt.xticks(rotation=60)\n",
    "plt.ylabel('Salary ($)')\n",
    "plt.ticklabel_format(style='plain', useOffset=False, axis='y')\n",
    "plt.tight_layout()\n",
    "\n",
    "plt.savefig(\"graph_outputs/WNBA_Top5_Teams_Salary_2023.png\")\n",
    "plt.show()"
   ]
  },
  {
   "cell_type": "code",
   "execution_count": 62,
   "id": "e52c41c3",
   "metadata": {},
   "outputs": [],
   "source": [
    "wnba_2019 = wnba_salaries[wnba_salaries['Year']== 2019]\n",
    "wnba_2019.head()"
   ]
  },
  {
   "cell_type": "code",
   "execution_count": 63,
   "id": "69448e1d",
   "metadata": {},
   "outputs": [],
   "source": [
    "wnba_2019.boxplot(by ='Team', column=['Salary'], grid = False,\n",
    "    flierprops = dict(marker='D', markerfacecolor='pink', markersize=7,\n",
    "                  linestyle='none', markeredgecolor='black'))\n",
    "plt.title('2019 WNBA Top 5 Team Salary')\n",
    "plt.xlabel('Teams')\n",
    "plt.xticks(rotation=75)\n",
    "plt.ylabel('Salary ($)')\n",
    "plt.ticklabel_format(style='plain', useOffset=False, axis='y')\n",
    "plt.tight_layout()\n",
    "\n",
    "plt.savefig(\"graph_outputs/WNBA_Top5_Teams_Salary_2019.png\")\n",
    "plt.show()"
   ]
  },
  {
   "cell_type": "code",
   "execution_count": null,
   "id": "90470634",
   "metadata": {},
   "outputs": [],
   "source": []
  },
  {
   "cell_type": "code",
   "execution_count": 64,
   "id": "f5d7c76e",
   "metadata": {},
   "outputs": [],
   "source": [
    "best_paid_wnba = wnba_salaries.sort_values(by = \"Salary\", ascending = False)[:20]\n",
    "best_paid_wnba"
   ]
  },
  {
   "cell_type": "code",
   "execution_count": 65,
   "id": "b43210ef",
   "metadata": {},
   "outputs": [],
   "source": [
    "wnba_top_ten = best_paid_wnba.drop_duplicates([\"Player\"])\n",
    "display(wnba_top_ten)"
   ]
  },
  {
   "cell_type": "code",
   "execution_count": 66,
   "id": "ff55a0a1",
   "metadata": {},
   "outputs": [],
   "source": [
    "wnba_x_axis = np.arange(0, len(wnba_top_ten[\"Player\"]))"
   ]
  },
  {
   "cell_type": "code",
   "execution_count": 67,
   "id": "65a7b011",
   "metadata": {},
   "outputs": [],
   "source": [
    "wnba_player = wnba_top_ten[\"Player\"]"
   ]
  },
  {
   "cell_type": "code",
   "execution_count": 68,
   "id": "4c7ae548",
   "metadata": {},
   "outputs": [],
   "source": [
    "wnba_salary = wnba_top_ten['Salary']"
   ]
  },
  {
   "cell_type": "code",
   "execution_count": 69,
   "id": "608d3674",
   "metadata": {},
   "outputs": [],
   "source": [
    "#plt.figure(figsize=(10,6))\n",
    "bars = plt.bar(wnba_x_axis, wnba_salary, facecolor = \"orange\")\n",
    "plt.title(\"Top Ten Best Paid WNBA Players\")\n",
    "plt.xlabel(\"Player\")\n",
    "plt.xticks(wnba_x_axis,wnba_player,rotation=45)\n",
    "plt.ylim(210000,237000)\n",
    "plt.ylabel(\"Salary ($)\")\n",
    "# print(bars)\n",
    "for b in bars:\n",
    "#     print(b.get_height())\n",
    "    plt.text(x = 0.1 + b.get_x(), y = 100 + b.get_height(), s = str(round(b.get_height()/1000,2)),\n",
    "            fontsize=8)\n",
    "\n",
    "plt.tight_layout()\n",
    "\n",
    "plt.savefig(\"graph_outputs/TopTen_WNBA.png\")\n",
    "plt.show()"
   ]
  },
  {
   "cell_type": "code",
   "execution_count": 70,
   "id": "ddca62c0",
   "metadata": {},
   "outputs": [],
   "source": [
    "df2 = wnba_salaries.describe()\n",
    "df2"
   ]
  },
  {
   "cell_type": "code",
   "execution_count": 71,
   "id": "28ffe5db",
   "metadata": {},
   "outputs": [],
   "source": [
    "df3 = df2[\"Salary\"]"
   ]
  },
  {
   "cell_type": "code",
   "execution_count": 72,
   "id": "82beb100",
   "metadata": {},
   "outputs": [],
   "source": [
    "# #df2['Salary'].plot(kind = \"bar\", color = \"orange\")\n",
    "# #df3.plot()\n",
    "# df3.plot(kind = \"bar\", color = \"orange\")\n",
    "# plt.title(\"WNBA Summary\")\n",
    "# plt.xlabel(\"Summary Stats\")\n",
    "# #plt.xticks(wnba_x_axis,wnba_player,rotation=45)\n",
    "# #plt.ylim(210000,236000)\n",
    "# plt.ylabel(\"Salary ($)\")\n",
    "# plt.tight_layout()\n",
    "# #fig, ax = plt.subplots()\n",
    "# #bar_container = ax.par(wnba_salaries.describe(),df2[\"Salary\"])\n",
    "# #ax.bar_label(bar_container, fmt='{:, .0f}')\n",
    "# #for i, v in enumerate(df2[\"Salary\"]):\n",
    "#     #ax.text(i,v + 10000, str(v), ha=\"center\", va=\"bottom\")\n",
    "\n",
    "# plt.savefig(\"graph_outputs/WNBA_summary.png\")\n",
    "# plt.show()"
   ]
  },
  {
   "cell_type": "markdown",
   "id": "35d887f6",
   "metadata": {},
   "source": [
    "## NBA and WNB Graphs"
   ]
  },
  {
   "cell_type": "code",
   "execution_count": 73,
   "id": "4f205ad6",
   "metadata": {},
   "outputs": [],
   "source": [
    "nba_vs_wnba = pd.DataFrame({\"nba\": df['Salary'],\n",
    "                           \"wnba\": df2['Salary']\n",
    "                        })\n",
    "nba_vs_wnba"
   ]
  },
  {
   "cell_type": "code",
   "execution_count": 74,
   "id": "b3da925d",
   "metadata": {},
   "outputs": [],
   "source": [
    "nba_vs_wnba.plot(kind = \"bar\")\n",
    "plt.title(\"NBA vs WNBA Summary Salary Stats\")\n",
    "plt.xlabel(\"Summary Stats\")\n",
    "plt.ylabel(\"Salary ($)\")\n",
    "plt.ticklabel_format(style='plain', useOffset=False, axis='y')\n",
    "plt.savefig(\"graph_outputs/NBAvsWNBA1.png\")"
   ]
  },
  {
   "cell_type": "code",
   "execution_count": null,
   "id": "0db48e55",
   "metadata": {},
   "outputs": [],
   "source": []
  }
 ],
 "metadata": {
  "kernelspec": {
   "display_name": "Python 3 (ipykernel)",
   "language": "python",
   "name": "python3"
  },
  "language_info": {
   "codemirror_mode": {
    "name": "ipython",
    "version": 3
   },
   "file_extension": ".py",
   "mimetype": "text/x-python",
   "name": "python",
   "nbconvert_exporter": "python",
   "pygments_lexer": "ipython3",
   "version": "3.11.4"
  }
 },
 "nbformat": 4,
 "nbformat_minor": 5
}
