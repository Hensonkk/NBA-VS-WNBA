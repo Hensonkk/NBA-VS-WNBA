{
 "cells": [
  {
   "cell_type": "code",
   "execution_count": 129,
   "id": "3ed211a2",
   "metadata": {},
   "outputs": [],
   "source": [
    "# Import modules to be used\n",
    "\n",
    "import matplotlib.pyplot as plt\n",
    "import pandas as pd\n",
    "import numpy as np\n",
    "from scipy.stats import linregress"
   ]
  },
  {
   "cell_type": "code",
   "execution_count": 130,
   "id": "573b916e",
   "metadata": {},
   "outputs": [],
   "source": [
    "nba_wnba_rev_path = \"Datasets/NBA v WNBA Rev.csv\" "
   ]
  },
  {
   "cell_type": "code",
   "execution_count": 131,
   "id": "96771a02",
   "metadata": {},
   "outputs": [],
   "source": [
    "nba_wnba_rev = pd.read_csv(nba_wnba_rev_path)"
   ]
  },
  {
   "cell_type": "code",
   "execution_count": 132,
   "id": "2ad6ea77",
   "metadata": {},
   "outputs": [
    {
     "data": {
      "text/html": [
       "<div>\n",
       "<style scoped>\n",
       "    .dataframe tbody tr th:only-of-type {\n",
       "        vertical-align: middle;\n",
       "    }\n",
       "\n",
       "    .dataframe tbody tr th {\n",
       "        vertical-align: top;\n",
       "    }\n",
       "\n",
       "    .dataframe thead th {\n",
       "        text-align: right;\n",
       "    }\n",
       "</style>\n",
       "<table border=\"1\" class=\"dataframe\">\n",
       "  <thead>\n",
       "    <tr style=\"text-align: right;\">\n",
       "      <th></th>\n",
       "      <th>Season</th>\n",
       "      <th>League</th>\n",
       "      <th>Total Revenue</th>\n",
       "      <th>Ticket Sales Revenue</th>\n",
       "      <th>TV Revenue</th>\n",
       "      <th>Sponsorship Revenue</th>\n",
       "      <th>Merchandise/Other Items</th>\n",
       "      <th>Operating Cost</th>\n",
       "      <th>Gross Profit</th>\n",
       "    </tr>\n",
       "  </thead>\n",
       "  <tbody>\n",
       "    <tr>\n",
       "      <th>0</th>\n",
       "      <td>2019-20</td>\n",
       "      <td>NBA</td>\n",
       "      <td>7900</td>\n",
       "      <td>1500</td>\n",
       "      <td>2700</td>\n",
       "      <td>1390</td>\n",
       "      <td>3210</td>\n",
       "      <td>6100</td>\n",
       "      <td>1800</td>\n",
       "    </tr>\n",
       "    <tr>\n",
       "      <th>1</th>\n",
       "      <td>2019-20</td>\n",
       "      <td>WNBA</td>\n",
       "      <td>60</td>\n",
       "      <td>15</td>\n",
       "      <td>20</td>\n",
       "      <td>15</td>\n",
       "      <td>10</td>\n",
       "      <td>70</td>\n",
       "      <td>-10</td>\n",
       "    </tr>\n",
       "  </tbody>\n",
       "</table>\n",
       "</div>"
      ],
      "text/plain": [
       "    Season League  Total Revenue  Ticket Sales Revenue  TV Revenue  \\\n",
       "0  2019-20    NBA           7900                  1500        2700   \n",
       "1  2019-20   WNBA             60                    15          20   \n",
       "\n",
       "   Sponsorship Revenue  Merchandise/Other Items  Operating Cost  Gross Profit  \n",
       "0                 1390                     3210            6100          1800  \n",
       "1                   15                       10              70           -10  "
      ]
     },
     "execution_count": 132,
     "metadata": {},
     "output_type": "execute_result"
    }
   ],
   "source": [
    "nba_wnba_rev"
   ]
  },
  {
   "cell_type": "code",
   "execution_count": 133,
   "id": "0e5d1017",
   "metadata": {},
   "outputs": [],
   "source": [
    "nba_wnba = pd.DataFrame(nba_wnba_rev)"
   ]
  },
  {
   "cell_type": "code",
   "execution_count": 134,
   "id": "894037df",
   "metadata": {},
   "outputs": [
    {
     "data": {
      "text/html": [
       "<div>\n",
       "<style scoped>\n",
       "    .dataframe tbody tr th:only-of-type {\n",
       "        vertical-align: middle;\n",
       "    }\n",
       "\n",
       "    .dataframe tbody tr th {\n",
       "        vertical-align: top;\n",
       "    }\n",
       "\n",
       "    .dataframe thead th {\n",
       "        text-align: right;\n",
       "    }\n",
       "</style>\n",
       "<table border=\"1\" class=\"dataframe\">\n",
       "  <thead>\n",
       "    <tr style=\"text-align: right;\">\n",
       "      <th></th>\n",
       "      <th>Season</th>\n",
       "      <th>League</th>\n",
       "      <th>Total Revenue</th>\n",
       "      <th>Ticket Sales Revenue</th>\n",
       "      <th>TV Revenue</th>\n",
       "      <th>Sponsorship Revenue</th>\n",
       "      <th>Merchandise/Other Items</th>\n",
       "      <th>Operating Cost</th>\n",
       "      <th>Gross Profit</th>\n",
       "    </tr>\n",
       "  </thead>\n",
       "  <tbody>\n",
       "    <tr>\n",
       "      <th>0</th>\n",
       "      <td>2019-20</td>\n",
       "      <td>NBA</td>\n",
       "      <td>7900</td>\n",
       "      <td>1500</td>\n",
       "      <td>2700</td>\n",
       "      <td>1390</td>\n",
       "      <td>3210</td>\n",
       "      <td>6100</td>\n",
       "      <td>1800</td>\n",
       "    </tr>\n",
       "    <tr>\n",
       "      <th>1</th>\n",
       "      <td>2019-20</td>\n",
       "      <td>WNBA</td>\n",
       "      <td>60</td>\n",
       "      <td>15</td>\n",
       "      <td>20</td>\n",
       "      <td>15</td>\n",
       "      <td>10</td>\n",
       "      <td>70</td>\n",
       "      <td>-10</td>\n",
       "    </tr>\n",
       "  </tbody>\n",
       "</table>\n",
       "</div>"
      ],
      "text/plain": [
       "    Season League  Total Revenue  Ticket Sales Revenue  TV Revenue  \\\n",
       "0  2019-20    NBA           7900                  1500        2700   \n",
       "1  2019-20   WNBA             60                    15          20   \n",
       "\n",
       "   Sponsorship Revenue  Merchandise/Other Items  Operating Cost  Gross Profit  \n",
       "0                 1390                     3210            6100          1800  \n",
       "1                   15                       10              70           -10  "
      ]
     },
     "execution_count": 134,
     "metadata": {},
     "output_type": "execute_result"
    }
   ],
   "source": [
    "nba_wnba"
   ]
  },
  {
   "cell_type": "code",
   "execution_count": 135,
   "id": "b72de1c1",
   "metadata": {},
   "outputs": [
    {
     "data": {
      "text/html": [
       "<div>\n",
       "<style scoped>\n",
       "    .dataframe tbody tr th:only-of-type {\n",
       "        vertical-align: middle;\n",
       "    }\n",
       "\n",
       "    .dataframe tbody tr th {\n",
       "        vertical-align: top;\n",
       "    }\n",
       "\n",
       "    .dataframe thead th {\n",
       "        text-align: right;\n",
       "    }\n",
       "</style>\n",
       "<table border=\"1\" class=\"dataframe\">\n",
       "  <thead>\n",
       "    <tr style=\"text-align: right;\">\n",
       "      <th></th>\n",
       "      <th>Season</th>\n",
       "      <th>League</th>\n",
       "      <th>Total Revenue</th>\n",
       "      <th>Ticket Sales Revenue</th>\n",
       "      <th>TV Revenue</th>\n",
       "      <th>Sponsorship Revenue</th>\n",
       "      <th>Merchandise/Other Items</th>\n",
       "      <th>Operating Cost</th>\n",
       "      <th>Gross Profit</th>\n",
       "    </tr>\n",
       "  </thead>\n",
       "  <tbody>\n",
       "    <tr>\n",
       "      <th>0</th>\n",
       "      <td>2019-20</td>\n",
       "      <td>NBA</td>\n",
       "      <td>7900</td>\n",
       "      <td>1500</td>\n",
       "      <td>2700</td>\n",
       "      <td>1390</td>\n",
       "      <td>3210</td>\n",
       "      <td>6100</td>\n",
       "      <td>1800</td>\n",
       "    </tr>\n",
       "  </tbody>\n",
       "</table>\n",
       "</div>"
      ],
      "text/plain": [
       "    Season League  Total Revenue  Ticket Sales Revenue  TV Revenue  \\\n",
       "0  2019-20    NBA           7900                  1500        2700   \n",
       "\n",
       "   Sponsorship Revenue  Merchandise/Other Items  Operating Cost  Gross Profit  \n",
       "0                 1390                     3210            6100          1800  "
      ]
     },
     "execution_count": 135,
     "metadata": {},
     "output_type": "execute_result"
    }
   ],
   "source": [
    "nba = nba_wnba[nba_wnba[\"League\"] == \"NBA\"]\n",
    "nba"
   ]
  },
  {
   "cell_type": "code",
   "execution_count": 136,
   "id": "335adc10",
   "metadata": {},
   "outputs": [
    {
     "data": {
      "text/html": [
       "<div>\n",
       "<style scoped>\n",
       "    .dataframe tbody tr th:only-of-type {\n",
       "        vertical-align: middle;\n",
       "    }\n",
       "\n",
       "    .dataframe tbody tr th {\n",
       "        vertical-align: top;\n",
       "    }\n",
       "\n",
       "    .dataframe thead th {\n",
       "        text-align: right;\n",
       "    }\n",
       "</style>\n",
       "<table border=\"1\" class=\"dataframe\">\n",
       "  <thead>\n",
       "    <tr style=\"text-align: right;\">\n",
       "      <th></th>\n",
       "      <th>Season</th>\n",
       "      <th>League</th>\n",
       "      <th>Total Revenue</th>\n",
       "      <th>Ticket Sales Revenue</th>\n",
       "      <th>TV Revenue</th>\n",
       "      <th>Sponsorship Revenue</th>\n",
       "      <th>Merchandise/Other Items</th>\n",
       "      <th>Operating Cost</th>\n",
       "      <th>Gross Profit</th>\n",
       "    </tr>\n",
       "  </thead>\n",
       "  <tbody>\n",
       "    <tr>\n",
       "      <th>1</th>\n",
       "      <td>2019-20</td>\n",
       "      <td>WNBA</td>\n",
       "      <td>60</td>\n",
       "      <td>15</td>\n",
       "      <td>20</td>\n",
       "      <td>15</td>\n",
       "      <td>10</td>\n",
       "      <td>70</td>\n",
       "      <td>-10</td>\n",
       "    </tr>\n",
       "  </tbody>\n",
       "</table>\n",
       "</div>"
      ],
      "text/plain": [
       "    Season League  Total Revenue  Ticket Sales Revenue  TV Revenue  \\\n",
       "1  2019-20   WNBA             60                    15          20   \n",
       "\n",
       "   Sponsorship Revenue  Merchandise/Other Items  Operating Cost  Gross Profit  \n",
       "1                   15                       10              70           -10  "
      ]
     },
     "execution_count": 136,
     "metadata": {},
     "output_type": "execute_result"
    }
   ],
   "source": [
    "wnba = nba_wnba[nba_wnba[\"League\"] == \"WNBA\"]\n",
    "wnba"
   ]
  },
  {
   "cell_type": "code",
   "execution_count": 137,
   "id": "8baddc52",
   "metadata": {},
   "outputs": [],
   "source": [
    "row = nba.iloc[0]\n",
    "row_2 = row[3:7]"
   ]
  },
  {
   "cell_type": "code",
   "execution_count": 138,
   "id": "84aea79a",
   "metadata": {},
   "outputs": [
    {
     "data": {
      "text/html": [
       "<div>\n",
       "<style scoped>\n",
       "    .dataframe tbody tr th:only-of-type {\n",
       "        vertical-align: middle;\n",
       "    }\n",
       "\n",
       "    .dataframe tbody tr th {\n",
       "        vertical-align: top;\n",
       "    }\n",
       "\n",
       "    .dataframe thead th {\n",
       "        text-align: right;\n",
       "    }\n",
       "</style>\n",
       "<table border=\"1\" class=\"dataframe\">\n",
       "  <thead>\n",
       "    <tr style=\"text-align: right;\">\n",
       "      <th></th>\n",
       "      <th>index</th>\n",
       "      <th>0</th>\n",
       "    </tr>\n",
       "  </thead>\n",
       "  <tbody>\n",
       "    <tr>\n",
       "      <th>0</th>\n",
       "      <td>Ticket Sales Revenue</td>\n",
       "      <td>1500</td>\n",
       "    </tr>\n",
       "    <tr>\n",
       "      <th>1</th>\n",
       "      <td>TV Revenue</td>\n",
       "      <td>2700</td>\n",
       "    </tr>\n",
       "    <tr>\n",
       "      <th>2</th>\n",
       "      <td>Sponsorship Revenue</td>\n",
       "      <td>1390</td>\n",
       "    </tr>\n",
       "    <tr>\n",
       "      <th>3</th>\n",
       "      <td>Merchandise/Other Items</td>\n",
       "      <td>3210</td>\n",
       "    </tr>\n",
       "  </tbody>\n",
       "</table>\n",
       "</div>"
      ],
      "text/plain": [
       "                     index     0\n",
       "0     Ticket Sales Revenue  1500\n",
       "1               TV Revenue  2700\n",
       "2      Sponsorship Revenue  1390\n",
       "3  Merchandise/Other Items  3210"
      ]
     },
     "execution_count": 138,
     "metadata": {},
     "output_type": "execute_result"
    }
   ],
   "source": [
    "row_2.reset_index()"
   ]
  },
  {
   "cell_type": "code",
   "execution_count": 142,
   "id": "ad0f7e90",
   "metadata": {},
   "outputs": [
    {
     "data": {
      "text/html": [
       "<div>\n",
       "<style scoped>\n",
       "    .dataframe tbody tr th:only-of-type {\n",
       "        vertical-align: middle;\n",
       "    }\n",
       "\n",
       "    .dataframe tbody tr th {\n",
       "        vertical-align: top;\n",
       "    }\n",
       "\n",
       "    .dataframe thead th {\n",
       "        text-align: right;\n",
       "    }\n",
       "</style>\n",
       "<table border=\"1\" class=\"dataframe\">\n",
       "  <thead>\n",
       "    <tr style=\"text-align: right;\">\n",
       "      <th></th>\n",
       "      <th>Ticket Sales Revenue</th>\n",
       "      <th>TV Revenue</th>\n",
       "      <th>Sponsorship Revenue</th>\n",
       "      <th>Merchandise/Other Items</th>\n",
       "    </tr>\n",
       "  </thead>\n",
       "  <tbody>\n",
       "    <tr>\n",
       "      <th>0</th>\n",
       "      <td>1500</td>\n",
       "      <td>2700</td>\n",
       "      <td>1390</td>\n",
       "      <td>3210</td>\n",
       "    </tr>\n",
       "  </tbody>\n",
       "</table>\n",
       "</div>"
      ],
      "text/plain": [
       "  Ticket Sales Revenue TV Revenue Sponsorship Revenue Merchandise/Other Items\n",
       "0                 1500       2700                1390                    3210"
      ]
     },
     "execution_count": 142,
     "metadata": {},
     "output_type": "execute_result"
    }
   ],
   "source": [
    "row_2.to_frame().T"
   ]
  },
  {
   "cell_type": "code",
   "execution_count": 186,
   "id": "9c9f375b",
   "metadata": {},
   "outputs": [
    {
     "data": {
      "image/png": "[encoded data removed]",
      "text/plain": [
       "<Figure size 640x480 with 1 Axes>"
      ]
     },
     "metadata": {},
     "output_type": "display_data"
    },
    {
     "name": "stdout",
     "output_type": "stream",
     "text": [
      "Total NBA Revenue:  $7900\n",
      "                  -      \n",
      "NBA Operating Cost: $6100\n",
      "_________________________\n",
      "NBA Gross Profit:   $1800\n"
     ]
    }
   ],
   "source": [
    "def autopct_format(values):\n",
    "    def my_format(pct):\n",
    "        total = sum(values)\n",
    "        val = int(round(pct*total/100.0))\n",
    "        return '${v:d}'.format(v=val)\n",
    "    return my_format\n",
    "\n",
    "row_2.plot(kind = \"pie\", autopct = autopct_format(row_2))\n",
    "plt.title(\"NBA Revenue ($ in millions)\")\n",
    "plt.savefig(\"graph_outputs/NBAREV.png\")\n",
    "plt.show()\n",
    "print(f\"Total NBA Revenue:  $7900\")\n",
    "print(f\"                  -      \")\n",
    "print(f\"NBA Operating Cost: $6100\")\n",
    "print(f\"_________________________\")\n",
    "print(f\"NBA Gross Profit:   $1800\")"
   ]
  },
  {
   "cell_type": "code",
   "execution_count": 182,
   "id": "eb5e425e",
   "metadata": {},
   "outputs": [],
   "source": [
    "row2 = wnba.iloc[0]\n",
    "row_3 = row2[3:7]"
   ]
  },
  {
   "cell_type": "code",
   "execution_count": 183,
   "id": "635c0dfd",
   "metadata": {},
   "outputs": [
    {
     "data": {
      "text/html": [
       "<div>\n",
       "<style scoped>\n",
       "    .dataframe tbody tr th:only-of-type {\n",
       "        vertical-align: middle;\n",
       "    }\n",
       "\n",
       "    .dataframe tbody tr th {\n",
       "        vertical-align: top;\n",
       "    }\n",
       "\n",
       "    .dataframe thead th {\n",
       "        text-align: right;\n",
       "    }\n",
       "</style>\n",
       "<table border=\"1\" class=\"dataframe\">\n",
       "  <thead>\n",
       "    <tr style=\"text-align: right;\">\n",
       "      <th></th>\n",
       "      <th>index</th>\n",
       "      <th>1</th>\n",
       "    </tr>\n",
       "  </thead>\n",
       "  <tbody>\n",
       "    <tr>\n",
       "      <th>0</th>\n",
       "      <td>Ticket Sales Revenue</td>\n",
       "      <td>15</td>\n",
       "    </tr>\n",
       "    <tr>\n",
       "      <th>1</th>\n",
       "      <td>TV Revenue</td>\n",
       "      <td>20</td>\n",
       "    </tr>\n",
       "    <tr>\n",
       "      <th>2</th>\n",
       "      <td>Sponsorship Revenue</td>\n",
       "      <td>15</td>\n",
       "    </tr>\n",
       "    <tr>\n",
       "      <th>3</th>\n",
       "      <td>Merchandise/Other Items</td>\n",
       "      <td>10</td>\n",
       "    </tr>\n",
       "  </tbody>\n",
       "</table>\n",
       "</div>"
      ],
      "text/plain": [
       "                     index   1\n",
       "0     Ticket Sales Revenue  15\n",
       "1               TV Revenue  20\n",
       "2      Sponsorship Revenue  15\n",
       "3  Merchandise/Other Items  10"
      ]
     },
     "execution_count": 183,
     "metadata": {},
     "output_type": "execute_result"
    }
   ],
   "source": [
    "row_3.reset_index()"
   ]
  },
  {
   "cell_type": "code",
   "execution_count": 184,
   "id": "32efb8c2",
   "metadata": {},
   "outputs": [
    {
     "data": {
      "text/html": [
       "<div>\n",
       "<style scoped>\n",
       "    .dataframe tbody tr th:only-of-type {\n",
       "        vertical-align: middle;\n",
       "    }\n",
       "\n",
       "    .dataframe tbody tr th {\n",
       "        vertical-align: top;\n",
       "    }\n",
       "\n",
       "    .dataframe thead th {\n",
       "        text-align: right;\n",
       "    }\n",
       "</style>\n",
       "<table border=\"1\" class=\"dataframe\">\n",
       "  <thead>\n",
       "    <tr style=\"text-align: right;\">\n",
       "      <th></th>\n",
       "      <th>Ticket Sales Revenue</th>\n",
       "      <th>TV Revenue</th>\n",
       "      <th>Sponsorship Revenue</th>\n",
       "      <th>Merchandise/Other Items</th>\n",
       "    </tr>\n",
       "  </thead>\n",
       "  <tbody>\n",
       "    <tr>\n",
       "      <th>1</th>\n",
       "      <td>15</td>\n",
       "      <td>20</td>\n",
       "      <td>15</td>\n",
       "      <td>10</td>\n",
       "    </tr>\n",
       "  </tbody>\n",
       "</table>\n",
       "</div>"
      ],
      "text/plain": [
       "  Ticket Sales Revenue TV Revenue Sponsorship Revenue Merchandise/Other Items\n",
       "1                   15         20                  15                      10"
      ]
     },
     "execution_count": 184,
     "metadata": {},
     "output_type": "execute_result"
    }
   ],
   "source": [
    "row_3.to_frame().T"
   ]
  },
  {
   "cell_type": "code",
   "execution_count": 191,
   "id": "aa9d48c1",
   "metadata": {},
   "outputs": [
    {
     "data": {
      "image/png": "[encoded data removed]",
      "text/plain": [
       "<Figure size 640x480 with 1 Axes>"
      ]
     },
     "metadata": {},
     "output_type": "display_data"
    },
    {
     "name": "stdout",
     "output_type": "stream",
     "text": [
      "Total WNBA Revenue:  $60\n",
      "                  -     \n",
      "WNBA Operating Cost: $70\n",
      "________________________\n",
      "WNBA Gross Profit:  -$10\n"
     ]
    }
   ],
   "source": [
    "def autopct_format(values):\n",
    "    def my_format(pct):\n",
    "        total = sum(values)\n",
    "        val = int(round(pct*total/100.0))\n",
    "        return '${v:d}'.format(v=val)\n",
    "    return my_format\n",
    "\n",
    "row_3.plot(kind = \"pie\", autopct = autopct_format(row_3))\n",
    "plt.title(\"WNBA Revenue ($ in millions)\")\n",
    "plt.savefig(\"graph_outputs/WNBAREV.png\")\n",
    "plt.show()\n",
    "print(f\"Total WNBA Revenue:  $60\")\n",
    "print(f\"                  -     \")\n",
    "print(f\"WNBA Operating Cost: $70\")\n",
    "print(f\"________________________\")\n",
    "print(f\"WNBA Gross Profit:  -$10\")"
   ]
  },
  {
   "cell_type": "code",
   "execution_count": null,
   "id": "8b74c7d7",
   "metadata": {},
   "outputs": [],
   "source": []
  }
 ],
 "metadata": {
  "kernelspec": {
   "display_name": "Python 3 (ipykernel)",
   "language": "python",
   "name": "python3"
  },
  "language_info": {
   "codemirror_mode": {
    "name": "ipython",
    "version": 3
   },
   "file_extension": ".py",
   "mimetype": "text/x-python",
   "name": "python",
   "nbconvert_exporter": "python",
   "pygments_lexer": "ipython3",
   "version": "3.11.4"
  }
 },
 "nbformat": 4,
 "nbformat_minor": 5
}
