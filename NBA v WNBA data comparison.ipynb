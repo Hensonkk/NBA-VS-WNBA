{
 "cells": [
  {
   "cell_type": "code",
   "execution_count": null,
   "id": "83cf8a09",
   "metadata": {},
   "outputs": [],
   "source": [
    "import matplotlib.pyplot as plt\n",
    "import pandas as pd\n",
    "import numpy as np\n",
    "from scipy.stats import linregress"
   ]
  },
  {
   "cell_type": "code",
   "execution_count": null,
   "id": "afa90dd3",
   "metadata": {},
   "outputs": [],
   "source": [
    "nba_stats_path = \"Datasets/NBA Player Stats 2019-2022.csv\"\n",
    "wnba_stats_path = \"Datasets/WNBA Player Stats 2019-2023 .csv\"\n",
    "nba_team_stats_path = \"Datasets/NBA Team Stats.csv\"\n",
    "wnba_team_stats_path = \"Datasets/WNBA Team Stats.csv\""
   ]
  },
  {
   "cell_type": "code",
   "execution_count": null,
   "id": "ee363142",
   "metadata": {},
   "outputs": [],
   "source": [
    "nba_stats = pd.read_csv(nba_stats_path)\n",
    "wnba_stats = pd.read_csv(wnba_stats_path)\n",
    "nba_team_stats = pd.read_csv(nba_team_stats_path)\n",
    "wnba_team_stats = pd.read_csv(wnba_team_stats_path)"
   ]
  },
  {
   "cell_type": "code",
   "execution_count": null,
   "id": "eb862f12",
   "metadata": {},
   "outputs": [],
   "source": [
    "nba_stats.head()"
   ]
  },
  {
   "cell_type": "code",
   "execution_count": null,
   "id": "cf71db3d",
   "metadata": {},
   "outputs": [],
   "source": [
    "nba_team_stats.head()"
   ]
  },
  {
   "cell_type": "code",
   "execution_count": null,
   "id": "7f0c18b0",
   "metadata": {},
   "outputs": [],
   "source": [
    "wnba_team_stats.head()"
   ]
  },
  {
   "cell_type": "code",
   "execution_count": null,
   "id": "bc3e789f",
   "metadata": {},
   "outputs": [],
   "source": []
  }
 ],
 "metadata": {
  "kernelspec": {
   "display_name": "Python 3 (ipykernel)",
   "language": "python",
   "name": "python3"
  },
  "language_info": {
   "codemirror_mode": {
    "name": "ipython",
    "version": 3
   },
   "file_extension": ".py",
   "mimetype": "text/x-python",
   "name": "python",
   "nbconvert_exporter": "python",
   "pygments_lexer": "ipython3",
   "version": "3.11.4"
  }
 },
 "nbformat": 4,
 "nbformat_minor": 5
}
